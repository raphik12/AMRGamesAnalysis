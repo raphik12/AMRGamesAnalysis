{
 "cells": [
  {
   "cell_type": "markdown",
   "metadata": {},
   "source": [
    "# Summary and conclusions\n",
    "\n",
    "## Research questions\n",
    "\n",
    "### RQ1 - Are current AMR awareness games successful?\n",
    "Which criteria make an AMR game successful?\n",
    "- (1) increase in awareness through play\n",
    "- (2) change in behavior\n",
    "\n",
    "Only (1) can be measured between pretest and posttest in this study.\n",
    "\n",
    "###  RQ2 - What are the characteristics of successful AMR games?\n",
    "  (Can't differentiate effect of games, therefore we propose the metrics: the more engaging a game is, the better it is)\n",
    "\n",
    "## Associated H<sub>0</sub>\n",
    "  Possible H<sub>0</sub>:\n",
    "  - games have an average SUS score (50%?)\n",
    "  - games have similar scores on subscales\n",
    "\n",
    "## Hypotheses\n",
    "  - proxies for measurement of success\n",
    "      - engagement is a proxy for efficiency - it works for educational games, what about awareness games?\n",
    "      - high SUS scores are a proxy for engagement\n",
    "      - therefore games with the best SUS score are the ones we should focus on\n",
    "  - Q11 (recommendation) reveals which are the most engaging games overall\n",
    "  - Q12 (free comments) reveals which characteristics are the most important"
   ]
  },
  {
   "cell_type": "markdown",
   "metadata": {},
   "source": [
    "# SUS score analysis, per question\n",
    "\n",
    "Not recommended IF SUS is a Likert scale assessment tool, ie all questions assess an aspect together."
   ]
  },
  {
   "cell_type": "markdown",
   "metadata": {},
   "source": [
    "## SUS score per question\n",
    "\n",
    "![alt text](../Graphs/stacked-bar-plots/data20190603/matrixStackedBars.png \"Title\")"
   ]
  },
  {
   "cell_type": "markdown",
   "metadata": {},
   "source": [
    "## Mean SUS score per question\n",
    "\n",
    "Not recommended IF SUS is a Likert scale assessment tool, ie all questions assess an aspect together.\n",
    "\n",
    "![alt text](../Graphs/bar-plots-with-error-bars/data20190603/SUS-11-bar-graphs-3x4-matrix.png \"Title\")\n",
    "\n",
    "## Mean SUS score per question, normalized\n",
    "\n",
    "![alt text](../Graphs/bar-plots-with-error-bars/data20190603/SUS-normalized-11-bar-graphs-3x4-matrix.png \"Title\")"
   ]
  },
  {
   "cell_type": "markdown",
   "metadata": {},
   "source": [
    "### Miranda House\n",
    "---------------------------------------------------------------------------\n",
    "Dr Bug: Microbe Mayhem\n",
    "57.6% 01. I think that I would like to play this game frequently.\n",
    "73.5% 02. I found the game unnecessarily complex.\n",
    "84.8% 03. I thought the game was easy to play.\n",
    "87.9% 04. I think that I would need the support of a technical person to be able to play this game.\n",
    "65.6% 05. I found the various functions in this game were well integrated.\n",
    "76.5% 06. I thought there was too much inconsistency in this game.\n",
    "81.2% 07. I would imagine that most people would learn to play this game very quickly.\n",
    "62.9% 08. I found the game very cumbersome to play.\n",
    "73.5% 09. I felt very confident using the game.\n",
    "72.0% 10. I needed to learn a lot of things before I could get going with this game.\n",
    "(72.7% 11. I would recommend this game to a friend.)\n",
    "73.6% TOTAL SUS\n",
    "\n",
    "---------------------------------------------------------------------------\n",
    "Fungal Invasion\n",
    "57.8% 01. I think that I would like to play this game frequently.\n",
    "71.1% 02. I found the game unnecessarily complex.\n",
    "68.5% 03. I thought the game was easy to play.\n",
    "87.5% 04. I think that I would need the support of a technical person to be able to play this game.\n",
    "62.5% 05. I found the various functions in this game were well integrated.\n",
    "70.2% 06. I thought there was too much inconsistency in this game.\n",
    "76.6% 07. I would imagine that most people would learn to play this game very quickly.\n",
    "60.9% 08. I found the game very cumbersome to play.\n",
    "70.3% 09. I felt very confident using the game.\n",
    "78.1% 10. I needed to learn a lot of things before I could get going with this game.\n",
    "(65.6% 11. I would recommend this game to a friend.)\n",
    "77.7% TOTAL SUS\n",
    "\n",
    "---------------------------------------------------------------------------\n",
    "Superbugs: the Game\n",
    "67.6% 01. I think that I would like to play this game frequently.\n",
    "79.4% 02. I found the game unnecessarily complex.\n",
    "88.6% 03. I thought the game was easy to play.\n",
    "89.0% 04. I think that I would need the support of a technical person to be able to play this game.\n",
    "77.2% 05. I found the various functions in this game were well integrated.\n",
    "80.3% 06. I thought there was too much inconsistency in this game.\n",
    "88.6% 07. I would imagine that most people would learn to play this game very quickly.\n",
    "75.0% 08. I found the game very cumbersome to play.\n",
    "91.7% 09. I felt very confident using the game.\n",
    "76.5% 10. I needed to learn a lot of things before I could get going with this game.\n",
    "(78.0% 11. I would recommend this game to a friend.)\n",
    "89.2% TOTAL SUS"
   ]
  },
  {
   "cell_type": "markdown",
   "metadata": {},
   "source": [
    "### Cite des Sciences\n",
    "---------------------------------------------------------------------------\n",
    "Dr Bug: Microbe Mayhem\n",
    "61.5% 01. I think that I would like to play this game frequently.\n",
    "59.6% 02. I found the game unnecessarily complex.\n",
    "57.7% 03. I thought the game was easy to play.\n",
    "90.4% 04. I think that I would need the support of a technical person to be able to play this game.\n",
    "65.4% 05. I found the various functions in this game were well integrated.\n",
    "73.1% 06. I thought there was too much inconsistency in this game.\n",
    "59.6% 07. I would imagine that most people would learn to play this game very quickly.\n",
    "59.6% 08. I found the game very cumbersome to play.\n",
    "61.5% 09. I felt very confident using the game.\n",
    "75.0% 10. I needed to learn a lot of things before I could get going with this game.\n",
    "61.5% 11. I would recommend this game to a friend.\n",
    "66.3%\n",
    "\n",
    "Fungal Invasion\n",
    "23.3% 01. I think that I would like to play this game frequently.\n",
    "65.0% 02. I found the game unnecessarily complex.\n",
    "48.3% 03. I thought the game was easy to play.\n",
    "76.7% 04. I think that I would need the support of a technical person to be able to play this game.\n",
    "43.3% 05. I found the various functions in this game were well integrated.\n",
    "43.3% 06. I thought there was too much inconsistency in this game.\n",
    "70.0% 07. I would imagine that most people would learn to play this game very quickly.\n",
    "40.0% 08. I found the game very cumbersome to play.\n",
    "51.7% 09. I felt very confident using the game.\n",
    "76.7% 10. I needed to learn a lot of things before I could get going with this game.\n",
    "26.7% 11. I would recommend this game to a friend.\n",
    "60.5%\n",
    "\n",
    "Superbugs: the Game\n",
    "60.9% 01. I think that I would like to play this game frequently.\n",
    "79.7% 02. I found the game unnecessarily complex.\n",
    "79.7% 03. I thought the game was easy to play.\n",
    "89.1% 04. I think that I would need the support of a technical person to be able to play this game.\n",
    "70.3% 05. I found the various functions in this game were well integrated.\n",
    "81.2% 06. I thought there was too much inconsistency in this game.\n",
    "85.9% 07. I would imagine that most people would learn to play this game very quickly.\n",
    "79.7% 08. I found the game very cumbersome to play.\n",
    "68.8% 09. I felt very confident using the game.\n",
    "73.4% 10. I needed to learn a lot of things before I could get going with this game.\n",
    "65.6% 11. I would recommend this game to a friend.\n",
    "82.9%"
   ]
  },
  {
   "cell_type": "markdown",
   "metadata": {},
   "source": [
    "# Global SUS Scores"
   ]
  },
  {
   "cell_type": "markdown",
   "metadata": {},
   "source": [
    "## Miranda House event\n",
    "\n",
    "\n",
    "1. Superbugs: the Game\n",
    "89.2%\n",
    "\n",
    "2. Fungal Invasion\n",
    "77.7%\n",
    "\n",
    "3. Dr Bug: Microbe Mayhem\n",
    "73.6%\n",
    "\n",
    "Q11 reveals the following ranking:\n",
    "\n",
    "1. Superbugs: the Game\n",
    "78.0%\n",
    "\n",
    "2. Dr Bug: Microbe Mayhem\n",
    "72.7%\n",
    "\n",
    "3. Fungal Invasion\n",
    "65.6%\n",
    "\n",
    "So usability and engagement is definitely not the same."
   ]
  },
  {
   "cell_type": "markdown",
   "metadata": {},
   "source": [
    "## Cite des Sciences event\n",
    "\n",
    "1. Superbugs: the Game\n",
    "82.9%\n",
    "\n",
    "2. Dr Bug: Microbe Mayhem\n",
    "66.3%\n",
    "\n",
    "3. Fungal Invasion\n",
    "60.5%\n",
    "\n",
    "\n",
    "Q11 reveals the following ranking:\n",
    "\n",
    "1. Superbugs: the Game\n",
    "65.6%\n",
    "\n",
    "2. Dr Bug: Microbe Mayhem\n",
    "61.5% \n",
    "\n",
    "3. Fungal Invasion\n",
    "26.7%\n"
   ]
  },
  {
   "cell_type": "markdown",
   "metadata": {},
   "source": [
    "To do:\n",
    "- statistical significance of difference SUS scores\n",
    "- --only keep first 10 questions, the 11th is not part of the canonical SUS score--\n",
    "- do tables for workflow\n",
    "- do tables for total SUS scores\n",
    "- go on cleaning the data\n",
    "    - duplicated data\n",
    "    - incomplete data\n",
    "- list all ideas in free comments question\n",
    "- ?(statistical test: compare positive and negative questions)\n",
    "- compare Q11 and global SUS scores\n",
    "- check methodology: times spent on every game\n",
    "- fix Y-axis scale so that it's constant\n",
    "- fix title of graph matrix"
   ]
  },
  {
   "cell_type": "markdown",
   "metadata": {},
   "source": [
    "# Why are groups different?\n",
    "- MH cohort is more educated about the topic\n",
    "- CdS was heavily biased beforehand as they had to be convinced to participate in the activity through a presentation of the activity, including a total disclosure of the content\n",
    "- MH was not biased as they"
   ]
  }
 ],
 "metadata": {
  "kernelspec": {
   "display_name": "Python 3",
   "language": "python",
   "name": "python3"
  },
  "language_info": {
   "codemirror_mode": {
    "name": "ipython",
    "version": 3
   },
   "file_extension": ".py",
   "mimetype": "text/x-python",
   "name": "python",
   "nbconvert_exporter": "python",
   "pygments_lexer": "ipython3",
   "version": "3.7.3"
  }
 },
 "nbformat": 4,
 "nbformat_minor": 2
}
