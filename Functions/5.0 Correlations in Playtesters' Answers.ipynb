{
 "cells": [
  {
   "cell_type": "markdown",
   "metadata": {},
   "source": [
    "# 5.0 Correlations in Playtesters' Answers\n",
    "\n",
    "methods = ['pearson', 'kendall', 'spearman']\n",
    "_m = methods[0]\n",
    "_correlation = _binarizedMatrix.astype(float).corr(_m)\n",
    "\n",
    "corr = np.corrcoef(allData3[checkpoint], allData3[q])"
   ]
  },
  {
   "cell_type": "code",
   "execution_count": null,
   "metadata": {},
   "outputs": [],
   "source": [
    "%run \"0.0 Data preparation.ipynb\""
   ]
  },
  {
   "cell_type": "code",
   "execution_count": null,
   "metadata": {},
   "outputs": [],
   "source": [
    "data = data20190603SUSNormalized\n",
    "testData = data.loc[data[gameQuestion] == games[0], data.columns[3:-1]]\n",
    "testData.head()"
   ]
  },
  {
   "cell_type": "code",
   "execution_count": null,
   "metadata": {},
   "outputs": [],
   "source": [
    "_correlation = testData.astype(float).corr()\n",
    "sns.heatmap(_correlation,\n",
    "            cmap=plt.cm.jet,\n",
    "            vmin=-1,\n",
    "            vmax=1,\n",
    "            square=True,\n",
    "            cbar_kws = dict(use_gridspec=False\n",
    "#                            ,location=\"left\"\n",
    "                           )\n",
    "           )"
   ]
  },
  {
   "cell_type": "code",
   "execution_count": null,
   "metadata": {},
   "outputs": [],
   "source": []
  }
 ],
 "metadata": {
  "kernelspec": {
   "display_name": "Python 3",
   "language": "python",
   "name": "python3"
  },
  "language_info": {
   "codemirror_mode": {
    "name": "ipython",
    "version": 3
   },
   "file_extension": ".py",
   "mimetype": "text/x-python",
   "name": "python",
   "nbconvert_exporter": "python",
   "pygments_lexer": "ipython3",
   "version": "3.6.5"
  }
 },
 "nbformat": 4,
 "nbformat_minor": 2
}
