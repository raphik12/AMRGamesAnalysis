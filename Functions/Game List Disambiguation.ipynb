{
 "cells": [
  {
   "cell_type": "markdown",
   "metadata": {},
   "source": [
    "# Game List Disambiguation\n",
    "\n",
    "Aim: check that all games are present in all sheets, without duplication."
   ]
  },
  {
   "cell_type": "code",
   "execution_count": null,
   "metadata": {},
   "outputs": [],
   "source": [
    "%matplotlib inline\n",
    "\n",
    "print(\"Game List Disambiguation\")\n",
    "\n",
    "import numpy as np\n",
    "import pandas as pd\n",
    "import matplotlib.pyplot as plt\n",
    "import matplotlib.cm as cm\n",
    "import matplotlib.transforms as tr\n",
    "import seaborn as sns\n",
    "import re\n",
    "import json\n",
    "import datetime\n",
    "import random\n",
    "\n",
    "from random import randint\n",
    "from ipywidgets import FloatProgress,IntProgress,IntText,Text,interact,interactive,IntSlider,FloatSlider\n",
    "from IPython.display import display\n",
    "from itertools import chain\n",
    "from scipy.stats import ttest_ind"
   ]
  },
  {
   "cell_type": "code",
   "execution_count": null,
   "metadata": {},
   "outputs": [],
   "source": [
    "dataFilesNamesStem = \"gameListsDisambiguationData\"\n",
    "dataFolderPath = \"../Data/\"\n",
    "csvSuffix = '.csv'\n",
    "gameListsDisambiguationDataPath = dataFolderPath + dataFilesNamesStem + csvSuffix"
   ]
  },
  {
   "cell_type": "code",
   "execution_count": null,
   "metadata": {},
   "outputs": [],
   "source": [
    "gameListsDisambiguationData  = pd.read_csv(\\\n",
    "                            gameListsDisambiguationDataPath,\\\n",
    "                            dtype=str,\\\n",
    "                         )"
   ]
  },
  {
   "cell_type": "code",
   "execution_count": null,
   "metadata": {},
   "outputs": [],
   "source": [
    "completeGamesSheetGamesColumn = gameListsDisambiguationData.columns[0]\n",
    "gamesSheetGamesColumn = gameListsDisambiguationData.columns[1]\n",
    "testSheetGamesColumn = gameListsDisambiguationData.columns[2]\n",
    "top5AMRGamesSheetGamesColumn = gameListsDisambiguationData.columns[3]\n",
    "\n",
    "completeGamesSheetGamesColumn,gamesSheetGamesColumn,testSheetGamesColumn,top5AMRGamesSheetGamesColumn"
   ]
  },
  {
   "cell_type": "code",
   "execution_count": null,
   "metadata": {},
   "outputs": [],
   "source": [
    "completeGamesSheetGames = gameListsDisambiguationData.loc[:, completeGamesSheetGamesColumn]\n",
    "gamesSheetGames = gameListsDisambiguationData.loc[:, gamesSheetGamesColumn]\n",
    "testSheetGames = gameListsDisambiguationData.loc[:, testSheetGamesColumn]\n",
    "top5AMRGamesSheetGames = gameListsDisambiguationData.loc[:, top5AMRGamesSheetGamesColumn]\n",
    "\n",
    "completeGamesSheetGames = [x for x in completeGamesSheetGames if not pd.isna(x)]\n",
    "gamesSheetGames = [x for x in gamesSheetGames if not pd.isna(x)]\n",
    "testSheetGames = [x for x in testSheetGames if not pd.isna(x)]\n",
    "top5AMRGamesSheetGames = [x for x in top5AMRGamesSheetGames if not pd.isna(x)]\n",
    "\n",
    "#completeGamesSheetGames = pd.Series([x for x in completeGamesSheetGames if not pd.isna(x)])\n",
    "#gamesSheetGames = pd.Series([x for x in gamesSheetGames if not pd.isna(x)])\n",
    "#testSheetGames = pd.Series([x for x in testSheetGames if not pd.isna(x)])\n",
    "#op5AMRGamesSheetGames = pd.Series([x for x in top5AMRGamesSheetGames if not pd.isna(x)])\n",
    "\n",
    "\n",
    "len(completeGamesSheetGames),\\\n",
    "len(gamesSheetGames),\\\n",
    "len(testSheetGames),\\\n",
    "len(top5AMRGamesSheetGames)"
   ]
  },
  {
   "cell_type": "markdown",
   "metadata": {},
   "source": [
    "# Unique games"
   ]
  },
  {
   "cell_type": "code",
   "execution_count": null,
   "metadata": {},
   "outputs": [],
   "source": [
    "completeGamesSheetGamesCount = len(np.unique(completeGamesSheetGames))"
   ]
  },
  {
   "cell_type": "code",
   "execution_count": null,
   "metadata": {},
   "outputs": [],
   "source": [
    "#uniqueUnionGames = pd.concat([gamesSheetGames, testSheetGames, top5AMRGamesSheetGames]).unique()\n",
    "uniqueUnionGames = np.unique(gamesSheetGames + testSheetGames + top5AMRGamesSheetGames)\n",
    "uniqueUnionGames = [x for x in uniqueUnionGames if not pd.isna(x)]\n",
    "uniqueUnionGames.sort()\n",
    "uniqueUnionGamesLength = len(uniqueUnionGames)\n",
    "uniqueUnionGamesLength"
   ]
  },
  {
   "cell_type": "markdown",
   "metadata": {},
   "source": [
    "# Intersections"
   ]
  },
  {
   "cell_type": "code",
   "execution_count": null,
   "metadata": {
    "scrolled": false
   },
   "outputs": [],
   "source": [
    "assert(uniqueUnionGamesLength==len([x for x in completeGamesSheetGames if (x in testSheetGames)]))"
   ]
  },
  {
   "cell_type": "code",
   "execution_count": null,
   "metadata": {
    "scrolled": false
   },
   "outputs": [],
   "source": [
    "assert(uniqueUnionGamesLength==len([x for x in gamesSheetGames if (x in testSheetGames)]))"
   ]
  },
  {
   "cell_type": "code",
   "execution_count": null,
   "metadata": {
    "scrolled": false
   },
   "outputs": [],
   "source": [
    "assert(uniqueUnionGamesLength==len([x for x in gamesSheetGames if (x in top5AMRGamesSheetGames)]))"
   ]
  },
  {
   "cell_type": "code",
   "execution_count": null,
   "metadata": {
    "scrolled": false
   },
   "outputs": [],
   "source": [
    "assert(uniqueUnionGamesLength==len([x for x in top5AMRGamesSheetGames if (x in testSheetGames)]))"
   ]
  },
  {
   "cell_type": "markdown",
   "metadata": {},
   "source": [
    "# Differences"
   ]
  },
  {
   "cell_type": "code",
   "execution_count": null,
   "metadata": {},
   "outputs": [],
   "source": [
    "assert(0==len([x for x in uniqueUnionGames if (not (x in completeGamesSheetGames))]))"
   ]
  },
  {
   "cell_type": "code",
   "execution_count": null,
   "metadata": {},
   "outputs": [],
   "source": [
    "assert(0==len([x for x in uniqueUnionGames if (not (x in gamesSheetGames))]))"
   ]
  },
  {
   "cell_type": "code",
   "execution_count": null,
   "metadata": {},
   "outputs": [],
   "source": [
    "assert(0==len([x for x in uniqueUnionGames if (not (x in testSheetGames))]))"
   ]
  },
  {
   "cell_type": "code",
   "execution_count": null,
   "metadata": {},
   "outputs": [],
   "source": [
    "assert(0==len([x for x in uniqueUnionGames if (not (x in top5AMRGamesSheetGames))]))"
   ]
  },
  {
   "cell_type": "markdown",
   "metadata": {},
   "source": [
    "# Relevance to AMR"
   ]
  },
  {
   "cell_type": "code",
   "execution_count": null,
   "metadata": {},
   "outputs": [],
   "source": [
    "amrRelevantColumn = gameListsDisambiguationData.columns[4]\n",
    "amrRelevantGames = gameListsDisambiguationData.loc[:, amrRelevantColumn]\n",
    "amrRelevantGamesCount = len(amrRelevantGames[amrRelevantGames == \"related\"])\n",
    "amrSlightlyRelevantGamesCount = len(amrRelevantGames[amrRelevantGames == \"slightly related\"])\n",
    "amrNotRelevantGamesCount = len(amrRelevantGames[amrRelevantGames == \"not related\"])\n",
    "\n",
    "amrRelevantGamesCount, amrSlightlyRelevantGamesCount, amrNotRelevantGamesCount"
   ]
  }
 ],
 "metadata": {
  "kernelspec": {
   "display_name": "Python 3",
   "language": "python",
   "name": "python3"
  },
  "language_info": {
   "codemirror_mode": {
    "name": "ipython",
    "version": 3
   },
   "file_extension": ".py",
   "mimetype": "text/x-python",
   "name": "python",
   "nbconvert_exporter": "python",
   "pygments_lexer": "ipython3",
   "version": "3.6.5"
  }
 },
 "nbformat": 4,
 "nbformat_minor": 2
}
