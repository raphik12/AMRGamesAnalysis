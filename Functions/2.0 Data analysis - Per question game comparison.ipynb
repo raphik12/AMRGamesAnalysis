{
 "cells": [
  {
   "cell_type": "code",
   "execution_count": null,
   "metadata": {
    "scrolled": true
   },
   "outputs": [],
   "source": [
    "%run \"0.0 Data preparation.ipynb\""
   ]
  },
  {
   "cell_type": "code",
   "execution_count": null,
   "metadata": {},
   "outputs": [],
   "source": [
    "filenamePathStem = \"stacked bar plots/\""
   ]
  },
  {
   "cell_type": "code",
   "execution_count": null,
   "metadata": {},
   "outputs": [],
   "source": [
    "question0 = shortQuestions['Q01']\n",
    "game0 = gameDrBugTitle"
   ]
  },
  {
   "cell_type": "code",
   "execution_count": null,
   "metadata": {},
   "outputs": [],
   "source": [
    "question0"
   ]
  },
  {
   "cell_type": "code",
   "execution_count": null,
   "metadata": {},
   "outputs": [],
   "source": [
    "raw20190603.loc[:, [question0, gameQuestion]].loc[raw20190603[gameQuestion]==game0].groupby(question0).size()"
   ]
  },
  {
   "cell_type": "code",
   "execution_count": null,
   "metadata": {},
   "outputs": [],
   "source": [
    "raw20190603.loc[:, [question0, gameQuestion]].head()"
   ]
  },
  {
   "cell_type": "code",
   "execution_count": null,
   "metadata": {},
   "outputs": [],
   "source": [
    "gameQuestion"
   ]
  },
  {
   "cell_type": "code",
   "execution_count": null,
   "metadata": {},
   "outputs": [],
   "source": [
    "raw20190603.loc[:, [question0, gameQuestion]].groupby([gameQuestion, question0]).size()[games[2]]"
   ]
  },
  {
   "cell_type": "code",
   "execution_count": null,
   "metadata": {},
   "outputs": [],
   "source": [
    "data = raw20190603.loc[[question0].value_counts()\n",
    "data"
   ]
  },
  {
   "cell_type": "code",
   "execution_count": null,
   "metadata": {},
   "outputs": [],
   "source": [
    "games"
   ]
  },
  {
   "cell_type": "code",
   "execution_count": null,
   "metadata": {},
   "outputs": [],
   "source": [
    "def plotStackedBar(question, gameIndex, inputData):\n",
    "    \n",
    "    assert(gameIndex < len(games), \"game index must be smaller than \" + str(len(games)))\n",
    "    \n",
    "    game = games[gameIndex]\n",
    "    data = raw20190603.loc[:, [question0, gameQuestion]].groupby([gameQuestion, question0]).size()\n",
    "    data = data[game]\n",
    "    \n",
    "    N = 1\n",
    "    counts1 = data[\"1\"]\n",
    "    counts2 = data[\"2\"]\n",
    "    counts3 = data[\"3\"]\n",
    "    counts4 = data[\"4\"]\n",
    "    counts5 = data[\"5\"]\n",
    "    ind = np.arange(N)    # the x locations for the groups\n",
    "    width = 0.35       # the width of the bars: can also be len(x) sequence\n",
    "\n",
    "    pg = [[] for i in range(len(games))]\n",
    "    pg[gameIndex] = [[] for i in range(5)]\n",
    "    \n",
    "    pg[gameIndex][0] = plt.bar(ind, counts1, width)\n",
    "    pg[gameIndex][1] = plt.bar(ind, counts2, width, bottom=counts1)\n",
    "    pg[gameIndex][2] = plt.bar(ind, counts3, width, bottom=counts1+counts2)\n",
    "    pg[gameIndex][3] = plt.bar(ind, counts4, width, bottom=counts1+counts2+counts3)\n",
    "    pg[gameIndex][4] = plt.bar(ind, counts5, width, bottom=counts1+counts2+counts3+counts4)\n",
    "\n",
    "    plt.ylabel('Counts')\n",
    "    plt.title(question)\n",
    "    plt.xticks(ind, games)\n",
    "    plt.yticks(np.arange(0, data.sum(), round(data.sum()/10)))\n",
    "    plt.legend((pg[gameIndex][0][0], pg[gameIndex][1][0], pg[gameIndex][2][0], pg[gameIndex][3][0], pg[gameIndex][4][0])\n",
    "#                , ('1', '2', '3', '4', '5'))\n",
    "                , data.index.values)\n",
    "\n",
    "    plt.show()\n",
    "                           \n",
    "plotStackedBar(question0, 1, raw20190603)"
   ]
  }
 ],
 "metadata": {
  "kernelspec": {
   "display_name": "Python 3",
   "language": "python",
   "name": "python3"
  },
  "language_info": {
   "codemirror_mode": {
    "name": "ipython",
    "version": 3
   },
   "file_extension": ".py",
   "mimetype": "text/x-python",
   "name": "python",
   "nbconvert_exporter": "python",
   "pygments_lexer": "ipython3",
   "version": "3.6.5"
  }
 },
 "nbformat": 4,
 "nbformat_minor": 2
}
