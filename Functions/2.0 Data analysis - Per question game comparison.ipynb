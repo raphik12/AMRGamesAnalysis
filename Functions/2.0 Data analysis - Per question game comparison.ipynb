{
 "cells": [
  {
   "cell_type": "code",
   "execution_count": null,
   "metadata": {
    "scrolled": true
   },
   "outputs": [],
   "source": [
    "%run \"0.0 Data preparation.ipynb\""
   ]
  },
  {
   "cell_type": "code",
   "execution_count": null,
   "metadata": {},
   "outputs": [],
   "source": [
    "filenamePathStem = \"stacked bar plots/\""
   ]
  },
  {
   "cell_type": "code",
   "execution_count": null,
   "metadata": {},
   "outputs": [],
   "source": [
    "for question in shortQuestions:\n",
    "    print(question)"
   ]
  },
  {
   "cell_type": "code",
   "execution_count": null,
   "metadata": {},
   "outputs": [],
   "source": [
    "def plotPieChartForGameAndQuestion(game, question, saveFig=False, filename=None):\n",
    "    fig = plt.figure()\n",
    "    ax1 = plt.subplot(111)\n",
    "    data = raw20190603.loc[raw20190603[gameQuestion]==game][question].value_counts().sort_index()\n",
    "#    colors = plt.cm.XXXXX(np.linspace(1, 0, 5)) | (np.arange(5)/(5))\n",
    "#    cm.rainbow, cm.jet, cm.Set3, cm.Pastel1\n",
    "    colors = cm.jet(np.linspace(1, 0, 5))\n",
    "    plt.pie(data.values, labels=data.index,\\\n",
    "            autopct=getFormattedPercentageAndAbsoluteValueFunction(data.sum()),\\\n",
    "            colors=colors,\\\n",
    "            shadow=True)\n",
    "    figureTitle = game + \":\\n\" + question\n",
    "    plt.title(figureTitle)\n",
    "    plt.show()\n",
    "    if saveFig:\n",
    "        shortQuestion = shortQuestions.index[shortQuestions.values==question].values[0]\n",
    "        if filename==None:\n",
    "            gamename = game.replace(\":\", \"\").replace(\" \", \"-\")\n",
    "            filename = filenamePathStem + gamename + \"/\" + gamename + \"_\" + shortQuestion\n",
    "        fig.savefig(filename)\n",
    "plotPieChartForGameAndQuestion(game0, question0, saveFig=False)"
   ]
  },
  {
   "cell_type": "code",
   "execution_count": null,
   "metadata": {},
   "outputs": [],
   "source": [
    "question0 = shortQuestions['Q01']\n",
    "game0 = gameDrBugTitle"
   ]
  },
  {
   "cell_type": "code",
   "execution_count": null,
   "metadata": {},
   "outputs": [],
   "source": [
    "question0"
   ]
  },
  {
   "cell_type": "code",
   "execution_count": null,
   "metadata": {},
   "outputs": [],
   "source": [
    "raw20190603.loc[:, [question0, gameQuestion]].loc[raw20190603[gameQuestion]==game0].groupby(question0).size()"
   ]
  },
  {
   "cell_type": "code",
   "execution_count": null,
   "metadata": {},
   "outputs": [],
   "source": [
    "data = raw20190603.loc[[question0].value_counts()\n",
    "data"
   ]
  },
  {
   "cell_type": "code",
   "execution_count": null,
   "metadata": {},
   "outputs": [],
   "source": [
    "data.sum()"
   ]
  },
  {
   "cell_type": "code",
   "execution_count": null,
   "metadata": {},
   "outputs": [],
   "source": [
    "def plotStackedBar(question, game, inputData):\n",
    "    \n",
    "    data = inputData.loc[:, [question, gameQuestion]].loc[inputData[gameQuestion]==game].groupby(question).size()\n",
    "    \n",
    "    N = 1\n",
    "    counts1 = data[\"1\"]\n",
    "    counts2 = data[\"2\"]\n",
    "    counts3 = data[\"3\"]\n",
    "    counts4 = data[\"4\"]\n",
    "    counts5 = data[\"5\"]\n",
    "    ind = np.arange(N)    # the x locations for the groups\n",
    "    width = 0.35       # the width of the bars: can also be len(x) sequence\n",
    "\n",
    "    p1 = plt.bar(ind, counts1, width)\n",
    "    p2 = plt.bar(ind, counts2, width, bottom=counts1)\n",
    "    p3 = plt.bar(ind, counts3, width, bottom=counts1+counts2)\n",
    "    p4 = plt.bar(ind, counts4, width, bottom=counts1+counts2+counts3)\n",
    "    p5 = plt.bar(ind, counts5, width, bottom=counts1+counts2+counts3+counts4)\n",
    "\n",
    "    plt.ylabel('Counts')\n",
    "    plt.title(question)\n",
    "    plt.xticks(ind, (game,''))\n",
    "    plt.yticks(np.arange(0, data.sum(), round(data.sum()/10)))\n",
    "    plt.legend((p1[0], p2[0], p3[0], p4[0], p5[0])\n",
    "#                , ('1', '2', '3', '4', '5'))\n",
    "                , data.index.values)\n",
    "\n",
    "    plt.show()\n",
    "                           \n",
    "plotStackedBar(question0, game0, raw20190603)"
   ]
  }
 ],
 "metadata": {
  "kernelspec": {
   "display_name": "Python 3",
   "language": "python",
   "name": "python3"
  },
  "language_info": {
   "codemirror_mode": {
    "name": "ipython",
    "version": 3
   },
   "file_extension": ".py",
   "mimetype": "text/x-python",
   "name": "python",
   "nbconvert_exporter": "python",
   "pygments_lexer": "ipython3",
   "version": "3.6.5"
  }
 },
 "nbformat": 4,
 "nbformat_minor": 2
}
