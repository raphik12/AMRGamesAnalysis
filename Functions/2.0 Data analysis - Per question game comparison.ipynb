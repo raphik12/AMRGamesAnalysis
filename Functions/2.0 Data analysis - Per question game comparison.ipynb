{
 "cells": [
  {
   "cell_type": "code",
   "execution_count": null,
   "metadata": {
    "scrolled": true
   },
   "outputs": [],
   "source": [
    "%run \"0.0 Data preparation.ipynb\""
   ]
  },
  {
   "cell_type": "code",
   "execution_count": null,
   "metadata": {},
   "outputs": [],
   "source": [
    "filenamePathStem = \"stacked bar plots/\""
   ]
  },
  {
   "cell_type": "code",
   "execution_count": null,
   "metadata": {},
   "outputs": [],
   "source": [
    "def plotStackedBar(question, inputData, saveFig=False, filename=None):\n",
    "    \n",
    "    fig = plt.figure()\n",
    "    ax1 = plt.subplot(111)\n",
    "    \n",
    "#    assert(gameIndex < len(games), \"game index must be smaller than \" + str(len(games)))\n",
    "    \n",
    "    ind = np.arange(len(games))    # the x locations for the groups\n",
    "    width = 0.35       # the width of the bars: can also be len(x) sequence\n",
    "    colors = cm.jet(np.linspace(1, 0, 5))\n",
    "\n",
    "    #games\n",
    "    pg = [[] for i in range(len(games))]\n",
    "    participantCounts = [0 for i in range(len(games))]\n",
    "    \n",
    "    for gameIndex in range(len(games)):\n",
    "    \n",
    "#        print(\"gameIndex=\"+str(gameIndex))\n",
    "        game = games[gameIndex]\n",
    "        data = inputData.loc[:, [question, gameQuestion]].groupby([gameQuestion, question]).size()\n",
    "        data = data[game]\n",
    "\n",
    "        #pd.Series((\"1\", \"2\", \"3\", \"4\", \"5\")).apply(lambda x: data.get(x, 0))\n",
    "        counts1 = data.get(1,0)\n",
    "        counts2 = data.get(2,0)\n",
    "        counts3 = data.get(3,0)\n",
    "        counts4 = data.get(4,0)\n",
    "        counts5 = data.get(5,0)\n",
    "        participantCounts[gameIndex] = data.sum()\n",
    "        \n",
    "        #agreement scale: 0 == 100% agree, 4 == 100% disagree\n",
    "        pg[gameIndex] = [[] for i in range(5)]\n",
    "\n",
    "        pg[gameIndex][0] = plt.bar(ind[gameIndex], counts1, width, bottom=counts5+counts4+counts3+counts2, color=colors[0])\n",
    "        pg[gameIndex][1] = plt.bar(ind[gameIndex], counts2, width, bottom=counts5+counts4+counts3, color=colors[1])\n",
    "        pg[gameIndex][2] = plt.bar(ind[gameIndex], counts3, width, bottom=counts5+counts4, color=colors[2])\n",
    "        pg[gameIndex][3] = plt.bar(ind[gameIndex], counts4, width, bottom=counts5, color=colors[3])\n",
    "        pg[gameIndex][4] = plt.bar(ind[gameIndex], counts5, width, color=colors[4])\n",
    "\n",
    "    plt.ylabel('Stacked answers')\n",
    "    plt.title(question)\n",
    "    plt.xticks(ind, games)\n",
    "#    plt.yticks(np.arange(0, data.sum(), round(max(participantCounts)/10)))\n",
    "    plt.legend((pg[gameIndex][0][0], pg[gameIndex][1][0], pg[gameIndex][2][0], pg[gameIndex][3][0], pg[gameIndex][4][0])\n",
    "            , (1,2,3,4,5),\n",
    "            loc='center left', bbox_to_anchor=(1, 0.5))\n",
    "\n",
    "    plt.show()\n",
    "    \n",
    "    if saveFig:\n",
    "        shortQuestion = shortQuestions.index[shortQuestions.values==question].values[0]\n",
    "        if filename==None:\n",
    "            filename = filenamePathStem + shortQuestion\n",
    "        fig.savefig(filename)\n",
    "                           \n",
    "plotStackedBar(indexedQuestions[4], data20190603, saveFig=False)"
   ]
  },
  {
   "cell_type": "code",
   "execution_count": null,
   "metadata": {},
   "outputs": [],
   "source": [
    "for question in shortLikertQuestions:\n",
    "    plotStackedBar(question, data20190603, saveFig=True)"
   ]
  },
  {
   "cell_type": "code",
   "execution_count": null,
   "metadata": {},
   "outputs": [],
   "source": [
    "# test to check values displayed in the bar plots\n",
    "data = data20190603.loc[:, [indexedQuestions[4], gameQuestion]].groupby([gameQuestion, indexedQuestions[4]]).size()\n",
    "data['Dr Bug: Microbe Mayhem']"
   ]
  }
 ],
 "metadata": {
  "kernelspec": {
   "display_name": "Python 3",
   "language": "python",
   "name": "python3"
  },
  "language_info": {
   "codemirror_mode": {
    "name": "ipython",
    "version": 3
   },
   "file_extension": ".py",
   "mimetype": "text/x-python",
   "name": "python",
   "nbconvert_exporter": "python",
   "pygments_lexer": "ipython3",
   "version": "3.6.5"
  }
 },
 "nbformat": 4,
 "nbformat_minor": 2
}
