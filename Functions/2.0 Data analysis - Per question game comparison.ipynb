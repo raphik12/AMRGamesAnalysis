{
 "cells": [
  {
   "cell_type": "code",
   "execution_count": null,
   "metadata": {
    "scrolled": true
   },
   "outputs": [],
   "source": [
    "%run \"0.0 Data preparation.ipynb\""
   ]
  },
  {
   "cell_type": "markdown",
   "metadata": {},
   "source": [
    "# Dataset selection"
   ]
  },
  {
   "cell_type": "code",
   "execution_count": null,
   "metadata": {},
   "outputs": [],
   "source": [
    "_dataName, _inputData, _dataNameSUSNormalized, _inputDataSUSNormalized = selectDataset(\"data20190703\")"
   ]
  },
  {
   "cell_type": "code",
   "execution_count": null,
   "metadata": {},
   "outputs": [],
   "source": [
    "stackedBarPlotsFilenamePathStem = graphsSavePathStem + \"/stacked-bar-plots\"\n",
    "tryCreateFolder(stackedBarPlotsFilenamePathStem)\n",
    "\n",
    "barPlotsErrorBarsFilenamePathStem = graphsSavePathStem + \"/bar-plots-with-error-bars\"\n",
    "tryCreateFolder(barPlotsErrorBarsFilenamePathStem)"
   ]
  },
  {
   "cell_type": "code",
   "execution_count": null,
   "metadata": {},
   "outputs": [],
   "source": [
    "def plotStackedBar(question\n",
    "                   , dataName=_dataName\n",
    "                   , saveFig=False\n",
    "                   , filename=None\n",
    "                   , fig=None\n",
    "                   , ax=None\n",
    "                   , title=None\n",
    "                   , displayedGameNames=games\n",
    "                   , showLegend=True\n",
    "                  ):\n",
    "\n",
    "    assert((dataName in datasets), \"Not found in datasets: '\" + dataName + \"'\")\n",
    "\n",
    "    data = datasets[dataName]\n",
    "\n",
    "    callShow = False\n",
    "\n",
    "    if None == ax:\n",
    "        callShow = True\n",
    "        if None == fig:\n",
    "            fig = plt.figure()\n",
    "        ax = plt.subplot(111)\n",
    "\n",
    "    #    assert(gameIndex < len(games), \"game index must be smaller than \" + str(len(games)))\n",
    "\n",
    "    ind = np.arange(len(games))    # the x locations for the groups\n",
    "    width = 0.35       # the width of the bars: can also be len(x) sequence\n",
    "    colors = cm.jet(np.linspace(1, 0, 5))\n",
    "\n",
    "    #games\n",
    "    pg = [[] for i in range(len(games))]\n",
    "    participantCounts = [0 for i in range(len(games))]\n",
    "\n",
    "    for gameIndex in range(len(games)):\n",
    "\n",
    "    #        print(\"gameIndex=\"+str(gameIndex))\n",
    "        game = games[gameIndex]\n",
    "        data = datasets[dataName]\n",
    "        data = data.loc[:, [question, gameQuestion]].groupby([gameQuestion, question]).size()\n",
    "        data = data[game]\n",
    "\n",
    "        #pd.Series((\"1\", \"2\", \"3\", \"4\", \"5\")).apply(lambda x: data.get(x, 0))\n",
    "        counts1 = data.get(1,0)\n",
    "        counts2 = data.get(2,0)\n",
    "        counts3 = data.get(3,0)\n",
    "        counts4 = data.get(4,0)\n",
    "        counts5 = data.get(5,0)\n",
    "        participantCounts[gameIndex] = data.sum()\n",
    "\n",
    "        #agreement scale: 0 == 100% agree, 4 == 100% disagree\n",
    "        pg[gameIndex] = [[] for i in range(5)]\n",
    "\n",
    "        pg[gameIndex][0] = ax.bar(\\\n",
    "                              ind[gameIndex],\n",
    "                              counts1,\\\n",
    "                              width,\\\n",
    "                              color=colors[0],\n",
    "                              bottom=counts5+counts4+counts3+counts2,\\\n",
    "                              )\n",
    "        pg[gameIndex][1] = ax.bar(\\\n",
    "                              ind[gameIndex],\n",
    "                              counts2,\\\n",
    "                              width,\\\n",
    "                              color=colors[1],\n",
    "                              bottom=counts5+counts4+counts3,\\\n",
    "                              )\n",
    "        pg[gameIndex][2] = ax.bar(\\\n",
    "                              ind[gameIndex],\n",
    "                              counts3,\\\n",
    "                              width,\\\n",
    "                              color=colors[2],\n",
    "                              bottom=counts5+counts4,\\\n",
    "                              )\n",
    "        pg[gameIndex][3] = ax.bar(\\\n",
    "                              ind[gameIndex],\n",
    "                              counts4,\\\n",
    "                              width,\\\n",
    "                              color=colors[3],\n",
    "                              bottom=counts5,\\\n",
    "                              )\n",
    "        pg[gameIndex][4] = ax.bar(\\\n",
    "                              ind[gameIndex],\\\n",
    "                              counts5,\\\n",
    "                              width,\\\n",
    "                              color=colors[4],\\\n",
    "                              )\n",
    "\n",
    "    plt.ylabel('Stacked answers')\n",
    "    if not title:\n",
    "        plt.title(question)\n",
    "    else:\n",
    "        plt.title(title)\n",
    "\n",
    "    # margins left and right of the bars from the Y axis\n",
    "    #    plt.margins(1.2)\n",
    "\n",
    "    plt.xticks(ind, displayedGameNames)\n",
    "    #    plt.yticks(np.arange(0, data.sum(), round(max(participantCounts)/10)))\n",
    "    if showLegend:\n",
    "        plt.legend((pg[gameIndex][0][0], pg[gameIndex][1][0], pg[gameIndex][2][0], pg[gameIndex][3][0], pg[gameIndex][4][0])\n",
    "            , (1,2,3,4,5),\n",
    "            loc='center left', bbox_to_anchor=(1, 0.5))\n",
    "\n",
    "    plt.tight_layout()\n",
    "\n",
    "    if callShow:\n",
    "        plt.show()\n",
    "\n",
    "    if saveFig:\n",
    "        shortQuestion = shortQuestions.index[shortQuestions.values==question].values[0]\n",
    "        if filename==None:\n",
    "            path = stackedBarPlotsFilenamePathStem + \"/\" + dataName\n",
    "            tryCreateFolder(path)\n",
    "            filename = path + \"/\" + shortQuestion\n",
    "        fig.savefig(filename)\n",
    "\n",
    "plotStackedBar(indexedQuestions[4], dataName=_dataName, saveFig=False)"
   ]
  },
  {
   "cell_type": "code",
   "execution_count": null,
   "metadata": {
    "scrolled": false
   },
   "outputs": [],
   "source": [
    "fig = plt.figure(figsize=(15,8))\n",
    "graphIndex = 1\n",
    "\n",
    "for question in shortLikertQuestions:\n",
    "    ax = fig.add_subplot(3,4,graphIndex)\n",
    "    shortQuestion = shortQuestions.index[shortQuestions.values==question].values[0]\n",
    "    plotStackedBar(question\n",
    "                   , dataName=_dataName\n",
    "                   , saveFig=False\n",
    "                   , fig=fig\n",
    "                   , ax=ax\n",
    "                   , title=shortQuestion\n",
    "                   , displayedGameNames=shortGameNames.values\n",
    "                   , showLegend=(graphIndex==11)\n",
    "                  )\n",
    "    graphIndex += 1\n",
    "path = stackedBarPlotsFilenamePathStem + \"/\" + _dataName\n",
    "tryCreateFolder(path)\n",
    "fig.savefig(path + \"/matrixStackedBars\")"
   ]
  },
  {
   "cell_type": "code",
   "execution_count": null,
   "metadata": {
    "scrolled": false
   },
   "outputs": [],
   "source": [
    "for question in shortLikertQuestions:\n",
    "    plotStackedBar(question, dataName=_dataName, saveFig=False)"
   ]
  },
  {
   "cell_type": "code",
   "execution_count": null,
   "metadata": {},
   "outputs": [],
   "source": [
    "# test to check values displayed in the bar plots\n",
    "data = _inputData.loc[:, [indexedQuestions[4], gameQuestion]].groupby([gameQuestion, indexedQuestions[4]]).size()\n",
    "data['Dr Bug: Microbe Mayhem']"
   ]
  },
  {
   "cell_type": "markdown",
   "metadata": {},
   "source": [
    "### SUS Likert scale score variance"
   ]
  },
  {
   "cell_type": "code",
   "execution_count": null,
   "metadata": {
    "scrolled": false
   },
   "outputs": [],
   "source": [
    "saveFig = True\n",
    "\n",
    "for question in indexedLikertQuestions:\n",
    "    fig = plt.figure()\n",
    "    ax = fig.add_subplot(111)\n",
    "    sns.barplot(x=gameQuestion, y=question, data=_inputData, ax = ax)\n",
    "    ax.set_xticklabels(shortGameNames)\n",
    "    plt.xlabel(question)\n",
    "    plt.ylabel('Agreement - Likert scale')\n",
    "    plt.ylim(1, 5)\n",
    "\n",
    "    if saveFig:\n",
    "        shortQuestion = shortQuestions.index[shortQuestions.values==question].values[0]\n",
    "        path = barPlotsErrorBarsFilenamePathStem + \"/\" + _dataName\n",
    "        tryCreateFolder(path)\n",
    "        fig.savefig(path + \"/\" + shortQuestion)"
   ]
  },
  {
   "cell_type": "code",
   "execution_count": null,
   "metadata": {
    "scrolled": false
   },
   "outputs": [],
   "source": [
    "saveFig = True\n",
    "\n",
    "fig = plt.figure(figsize=(15,8))\n",
    "graphIndex = 1\n",
    "\n",
    "for question in indexedLikertQuestions:\n",
    "\n",
    "    ax = fig.add_subplot(3,4,graphIndex)\n",
    "    graphIndex += 1\n",
    "    sns.barplot(x=gameQuestion, y=question, data=_inputData, ax = ax)\n",
    "    shortQuestion = shortQuestions.index[shortQuestions.values==question].values[0]\n",
    "    plt.xlabel('')\n",
    "    plt.ylabel('')\n",
    "    ax.set_xticklabels(['',shortQuestion,''])\n",
    "    plt.ylim(1, 5)\n",
    "\n",
    "if saveFig:\n",
    "    path = barPlotsErrorBarsFilenamePathStem + \"/\" + _dataName\n",
    "    tryCreateFolder(path)\n",
    "    fig.savefig(path + \"/SUS-11-bar-graphs-3x4-matrix\")"
   ]
  },
  {
   "cell_type": "code",
   "execution_count": null,
   "metadata": {
    "scrolled": false
   },
   "outputs": [],
   "source": [
    "saveFig = True\n",
    "\n",
    "fig = plt.figure(figsize=(15,8))\n",
    "graphIndex = 1\n",
    "\n",
    "for question in indexedLikertQuestions:\n",
    "\n",
    "    ax = fig.add_subplot(3,4,graphIndex)\n",
    "    graphIndex += 1\n",
    "    sns.barplot(x=gameQuestion, y=question, data=_inputDataSUSNormalized, ax = ax)\n",
    "    shortQuestion = shortQuestions.index[shortQuestions.values==question].values[0]\n",
    "    plt.xlabel('')\n",
    "    plt.ylabel('')\n",
    "    ax.set_xticklabels(['',shortQuestion,''])\n",
    "    plt.ylim(0, 4)\n",
    "\n",
    "if saveFig:\n",
    "    path = barPlotsErrorBarsFilenamePathStem + \"/\" + _dataName\n",
    "    tryCreateFolder(path)\n",
    "    fig.savefig(path + \"/SUS-normalized-11-bar-graphs-3x4-matrix\")"
   ]
  },
  {
   "cell_type": "markdown",
   "metadata": {},
   "source": [
    "## Negative vs Positive questions comparison\n",
    "\n",
    "Let's try and know whether the answers from negative and positive questions are indistinguishable."
   ]
  },
  {
   "cell_type": "code",
   "execution_count": null,
   "metadata": {},
   "outputs": [],
   "source": [
    "_inputDataSUSNormalized"
   ]
  }
 ],
 "metadata": {
  "kernelspec": {
   "display_name": "Python 3",
   "language": "python",
   "name": "python3"
  },
  "language_info": {
   "codemirror_mode": {
    "name": "ipython",
    "version": 3
   },
   "file_extension": ".py",
   "mimetype": "text/x-python",
   "name": "python",
   "nbconvert_exporter": "python",
   "pygments_lexer": "ipython3",
   "version": "3.7.3"
  }
 },
 "nbformat": 4,
 "nbformat_minor": 2
}
