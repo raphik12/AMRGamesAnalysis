{
 "cells": [
  {
   "cell_type": "markdown",
   "metadata": {},
   "source": [
    "# Workflow representation\n",
    "\n",
    "Aim: provide a Sankey graph to represent the workflow of game selection."
   ]
  },
  {
   "cell_type": "code",
   "execution_count": null,
   "metadata": {},
   "outputs": [],
   "source": [
    "%run \"0.0 Data preparation.ipynb\"\n",
    "#%run \"pySankey.ipynb\""
   ]
  },
  {
   "cell_type": "code",
   "execution_count": null,
   "metadata": {},
   "outputs": [],
   "source": [
    "%run \"Game List Disambiguation.ipynb\""
   ]
  },
  {
   "cell_type": "code",
   "execution_count": null,
   "metadata": {},
   "outputs": [],
   "source": [
    "filenamePathStem = \"workflow/\""
   ]
  },
  {
   "cell_type": "code",
   "execution_count": null,
   "metadata": {},
   "outputs": [],
   "source": [
    "import ipywidgets"
   ]
  },
  {
   "cell_type": "code",
   "execution_count": null,
   "metadata": {},
   "outputs": [],
   "source": [
    "from ipysankeywidget import SankeyWidget\n",
    "from ipywidgets import Layout"
   ]
  },
  {
   "cell_type": "code",
   "execution_count": null,
   "metadata": {},
   "outputs": [],
   "source": [
    "digitalSolutionsCount = completeGamesSheetGamesCount\n",
    "gamesCount = uniqueUnionGamesLength\n",
    "appsCount = completeGamesSheetGamesCount - uniqueUnionGamesLength\n",
    "\n",
    "colorRejected = '#aaa'\n",
    "colorSelected = 'goldenrod'"
   ]
  },
  {
   "cell_type": "code",
   "execution_count": null,
   "metadata": {},
   "outputs": [],
   "source": [
    "links = [\n",
    "    {'source': 'start', 'target': 'A', 'value': 2},\n",
    "    {'source': 'A', 'target': 'B', 'value': 2},\n",
    "    {'source': 'C', 'target': 'A', 'value': 2},\n",
    "    {'source': 'A', 'target': 'C', 'value': 2},\n",
    "]\n",
    "w = SankeyWidget(links=links, margins=dict(top=0, bottom=0, left=50, right=100))\n",
    "w"
   ]
  },
  {
   "cell_type": "code",
   "execution_count": null,
   "metadata": {},
   "outputs": [],
   "source": [
    "def getWorkflowSankey(figSize=1000, figRatio = 0.6):\n",
    "\n",
    "    global w\n",
    "    \n",
    "    figWidth = str(figSize)\n",
    "    figHeight = str(figRatio * figSize)\n",
    "    layout = Layout(width=figWidth, height=figHeight)\n",
    "\n",
    "    # labels\n",
    "    labelDigitalSolutions = 'digital\\nsolutions'\n",
    "\n",
    "    labelApplications = 'applications'\n",
    "    labelGames = 'games'\n",
    "\n",
    "    labelUnrelatedAMR = 'unrelated\\nto AMR'\n",
    "    labelSlightlyAMR = 'slightly related\\nto AMR'\n",
    "    labelRelatedAMR = 'related\\nto AMR'\n",
    "\n",
    "    labelSuperbugs = 'Superbugs'\n",
    "    labelDrBug = 'Dr Bug'\n",
    "    labelFungalInvaders = 'Fungal Invaders'\n",
    "\n",
    "    order = [\n",
    "        [labelDigitalSolutions],\n",
    "        [labelApplications, labelGames],\n",
    "        [labelUnrelatedAMR, labelSlightlyAMR, labelRelatedAMR],\n",
    "        [labelSuperbugs, labelDrBug, labelFungalInvaders]\n",
    "    ]\n",
    "    links = [\n",
    "        {'source': labelDigitalSolutions, 'target': labelApplications, 'value': appsCount, 'color': colorRejected},\n",
    "        {'source': labelDigitalSolutions, 'target': labelGames, 'value': gamesCount, 'color': colorSelected},\n",
    "\n",
    "        {'source': labelGames, 'target': labelUnrelatedAMR, 'value': amrNotRelevantGamesCount, 'color': colorRejected},\n",
    "        {'source': labelGames, 'target': labelSlightlyAMR, 'value': amrSlightlyRelevantGamesCount, 'color': colorRejected},\n",
    "        {'source': labelGames, 'target': labelRelatedAMR, 'value': amrRelevantGamesCount, 'color': colorSelected},\n",
    "\n",
    "        {'source': labelRelatedAMR, 'target': labelSuperbugs, 'value': 1, 'color': colorSelected},\n",
    "        {'source': labelRelatedAMR, 'target': labelDrBug, 'value': 1, 'color': colorSelected},\n",
    "        {'source': labelRelatedAMR, 'target': labelFungalInvaders, 'value': 1, 'color': colorSelected},\n",
    "    ]\n",
    "\n",
    "    w = SankeyWidget(links=links\n",
    "                     , margins=dict(top=0, bottom=0, left=100, right=150)\n",
    "                     , order=order\n",
    "                     , layout=layout\n",
    "                     , linkLabelFormat='.0f'\n",
    "                     , linkLabelMinWidth=10\n",
    "                    )\n",
    "    \n",
    "    return w\n",
    "\n",
    "interact(getWorkflowSankey, x=690, y=0.4);\n",
    "\n",
    "from IPython.display import display\n",
    "button = ipywidgets.Button(description=\"Save graph\")\n",
    "display(button)\n",
    "\n",
    "def on_button_clicked(b):\n",
    "    global w\n",
    "    w.auto_save_png(filenamePathStem+'workflow-sankey-graph.png')\n",
    "    w.auto_save_svg(filenamePathStem+'workflow-sankey-graph.svg')\n",
    "    print(\"Graph saved.\")\n",
    "\n",
    "button.on_click(on_button_clicked)\n"
   ]
  }
 ],
 "metadata": {
  "kernelspec": {
   "display_name": "Python 3",
   "language": "python",
   "name": "python3"
  },
  "language_info": {
   "codemirror_mode": {
    "name": "ipython",
    "version": 3
   },
   "file_extension": ".py",
   "mimetype": "text/x-python",
   "name": "python",
   "nbconvert_exporter": "python",
   "pygments_lexer": "ipython3",
   "version": "3.7.3"
  }
 },
 "nbformat": 4,
 "nbformat_minor": 2
}
