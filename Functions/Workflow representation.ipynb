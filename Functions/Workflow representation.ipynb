{
 "cells": [
  {
   "cell_type": "markdown",
   "metadata": {},
   "source": [
    "# Workflow representation\n",
    "\n",
    "Aim: provide a Sankey graph to represent the workflow of game selection."
   ]
  },
  {
   "cell_type": "code",
   "execution_count": null,
   "metadata": {},
   "outputs": [],
   "source": [
    "%run \"0.0 Data preparation.ipynb\"\n",
    "#%run \"pySankey.ipynb\""
   ]
  },
  {
   "cell_type": "code",
   "execution_count": null,
   "metadata": {},
   "outputs": [],
   "source": [
    "%run \"Game List Disambiguation.ipynb\""
   ]
  },
  {
   "cell_type": "code",
   "execution_count": null,
   "metadata": {},
   "outputs": [],
   "source": [
    "filenamePathStem = \"workflow/\""
   ]
  },
  {
   "cell_type": "code",
   "execution_count": null,
   "metadata": {},
   "outputs": [],
   "source": [
    "import ipywidgets"
   ]
  },
  {
   "cell_type": "code",
   "execution_count": null,
   "metadata": {},
   "outputs": [],
   "source": [
    "from ipysankeywidget import SankeyWidget\n",
    "from ipywidgets import Layout"
   ]
  },
  {
   "cell_type": "code",
   "execution_count": null,
   "metadata": {},
   "outputs": [],
   "source": [
    "digitalSolutionsCount = completeGamesSheetGamesCount\n",
    "gamesCount = uniqueUnionGamesLength\n",
    "appsCount = completeGamesSheetGamesCount - uniqueUnionGamesLength"
   ]
  },
  {
   "cell_type": "code",
   "execution_count": null,
   "metadata": {},
   "outputs": [],
   "source": [
    "layout = Layout(width=\"1000\", height=\"600\")\n",
    "\n",
    "# labels\n",
    "labelDigitalSolutions = 'digital\\nsolutions'\n",
    "\n",
    "labelApplications = 'applications'\n",
    "labelGames = 'games'\n",
    "\n",
    "labelUnrelatedAMR = 'unrelated\\nto AMR'\n",
    "labelSlightlyAMR = 'slightly related\\nto AMR'\n",
    "labelRelatedAMR = 'related\\nto AMR'\n",
    "\n",
    "labelSuperbugs = 'Superbugs'\n",
    "labelDrBug = 'Dr Bug'\n",
    "labelFungalInvasion = 'Fungal Invasion'\n",
    "\n",
    "order = [\n",
    "    [labelDigitalSolutions],\n",
    "    [labelApplications, labelGames],\n",
    "    [labelSlightlyAMR, labelUnrelatedAMR, labelRelatedAMR],\n",
    "    [labelSuperbugs, labelDrBug, labelFungalInvasion]\n",
    "]\n",
    "links = [\n",
    "    {'source': labelDigitalSolutions, 'target': labelApplications, 'value': appsCount, 'type': 'rejected'},\n",
    "    {'source': labelDigitalSolutions, 'target': labelGames, 'value': gamesCount, 'type': 'selected'},\n",
    "    \n",
    "    {'source': labelGames, 'target': labelUnrelatedAMR, 'value': 5, 'type': 'rejected'},\n",
    "    {'source': labelGames, 'target': labelSlightlyAMR, 'value': 7, 'type': 'rejected'},\n",
    "    {'source': labelGames, 'target': labelRelatedAMR, 'value': 3, 'type': 'selected'},\n",
    "    \n",
    "    {'source': labelRelatedAMR, 'target': labelSuperbugs, 'value': 1, 'type': 'selected'},\n",
    "    {'source': labelRelatedAMR, 'target': labelDrBug, 'value': 1, 'type': 'selected'},\n",
    "    {'source': labelRelatedAMR, 'target': labelFungalInvasion, 'value': 1, 'type': 'selected'},\n",
    "]\n",
    "\n",
    "w = SankeyWidget(links=links, margins=dict(top=0, bottom=0, left=100, right=150), order=order, layout=layout)\n",
    "\n",
    "w.auto_save_png(filenamePathStem+'workflow-sankey-graph.png')\n",
    "w.auto_save_svg(filenamePathStem+'workflow-sankey-graph.svg')\n",
    "\n",
    "w"
   ]
  },
  {
   "cell_type": "code",
   "execution_count": null,
   "metadata": {},
   "outputs": [],
   "source": []
  }
 ],
 "metadata": {
  "kernelspec": {
   "display_name": "Python 3",
   "language": "python",
   "name": "python3"
  },
  "language_info": {
   "codemirror_mode": {
    "name": "ipython",
    "version": 3
   },
   "file_extension": ".py",
   "mimetype": "text/x-python",
   "name": "python",
   "nbconvert_exporter": "python",
   "pygments_lexer": "ipython3",
   "version": "3.6.5"
  }
 },
 "nbformat": 4,
 "nbformat_minor": 2
}
