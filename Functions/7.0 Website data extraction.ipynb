{
 "cells": [
  {
   "cell_type": "markdown",
   "metadata": {},
   "source": [
    "# Website data extraction"
   ]
  },
  {
   "cell_type": "code",
   "execution_count": null,
   "metadata": {},
   "outputs": [],
   "source": [
    "import pandas as pd"
   ]
  },
  {
   "cell_type": "code",
   "execution_count": null,
   "metadata": {},
   "outputs": [],
   "source": [
    "dateDataFileNamePrefix = '2019-08-28_'\n",
    "websiteDataFileNamePrefix = 'website_'\n",
    "preQuestionnaireFileNameStem = 'AMR-Questionnaire-Pre'\n",
    "postQuestionnaireFileNameStem = 'AMR-Questionnaire-Post'\n",
    "gameQuestionnaireFileNameStem = 'Game-Questionnaire-Game'\n",
    "\n",
    "# shared with 0.0 Data...\n",
    "dataFolderPath = \"../Data/\"\n",
    "csvSuffix = '.csv'\n",
    "\n",
    "prequestionnaire = preQuestionnaireFileNameStem\n",
    "postquestionnaire = postQuestionnaireFileNameStem\n",
    "game1Questionnaire = gameQuestionnaireFileNameStem + '1'\n",
    "game2Questionnaire = gameQuestionnaireFileNameStem + '2'\n",
    "game3Questionnaire = gameQuestionnaireFileNameStem + '3'\n",
    "\n",
    "def getFileName(stem):\n",
    "    return dataFolderPath + dateDataFileNamePrefix + websiteDataFileNamePrefix + stem + csvSuffix\n",
    "\n",
    "dataFilesStems = [prequestionnaire, postquestionnaire, game1Questionnaire, game2Questionnaire, game3Questionnaire]\n",
    "dataFiles = [getFileName(stem) for stem in dataFilesStems]\n",
    "dataFiles, dataFilesStems"
   ]
  },
  {
   "cell_type": "code",
   "execution_count": null,
   "metadata": {},
   "outputs": [],
   "source": [
    "allNames = set()\n",
    "completeParticipants = set()\n",
    "for f in dataFiles:\n",
    "    unanonymizedData = pd.read_csv(f,dtype=str)\n",
    "    names = set(unanonymizedData['Name'])\n",
    "    allNames = set.union(allNames, names)\n",
    "    if len(completeParticipants) == 0:\n",
    "        completeParticipants = names\n",
    "    else:\n",
    "        completeParticipants = completeParticipants and names"
   ]
  },
  {
   "cell_type": "code",
   "execution_count": null,
   "metadata": {},
   "outputs": [],
   "source": [
    "allNames"
   ]
  },
  {
   "cell_type": "code",
   "execution_count": null,
   "metadata": {},
   "outputs": [],
   "source": [
    "completeParticipants"
   ]
  },
  {
   "cell_type": "code",
   "execution_count": null,
   "metadata": {},
   "outputs": [],
   "source": [
    "def getStreamlinedString(name):\n",
    "    return str.lower(name).replace(\" \",\"\")"
   ]
  },
  {
   "cell_type": "code",
   "execution_count": null,
   "metadata": {
    "scrolled": false
   },
   "outputs": [],
   "source": [
    "allNames = pd.DataFrame(index=[])\n",
    "\n",
    "for stem in dataFilesStems:\n",
    "    \n",
    "    fileName = getFileName(stem)\n",
    "    unanonymizedData = pd.read_csv(fileName,dtype=str)\n",
    "    names = set(unanonymizedData['Name'])\n",
    "    \n",
    "    for name in names:\n",
    "        allNames.loc[getStreamlinedString(name), stem] = \"done\"\n",
    "            \n",
    "#    allNames = allNames.append(names, sort=True).transpose().drop(index='Name')\n",
    "allNames = allNames.sort_index()\n",
    "allNames = allNames.fillna(\"-\")\n",
    "allNames"
   ]
  },
  {
   "cell_type": "code",
   "execution_count": null,
   "metadata": {},
   "outputs": [],
   "source": [
    "def getNameFromEmail(data, email):\n",
    "    return data[data[\"Email\"]==email][\"Name\"].values[0]\n",
    "getNameFromEmail(unanonymizedData, \"nidhiben.patel@cri-paris.org\")"
   ]
  },
  {
   "cell_type": "code",
   "execution_count": null,
   "metadata": {},
   "outputs": [],
   "source": [
    "email = \"nidhiben.patel@cri-paris.org\"\n",
    "#getNameFromEmail(unanonymizedData, email)\n",
    "unanonymizedData[unanonymizedData[\"Email\"]==email][\"Name\"].values[0]"
   ]
  },
  {
   "cell_type": "code",
   "execution_count": null,
   "metadata": {
    "scrolled": false
   },
   "outputs": [],
   "source": [
    "allNames = pd.DataFrame(index=[])\n",
    "allNames.index.name = \"email\"\n",
    "debugOn = False\n",
    "\n",
    "for stem in dataFilesStems:\n",
    "    \n",
    "    fileName = getFileName(stem)\n",
    "    unanonymizedData = pd.read_csv(fileName,dtype=str)\n",
    "    emails = set(unanonymizedData['Email'])\n",
    "    \n",
    "    for email in emails:\n",
    "        allNames.loc[getStreamlinedString(email), \"name\"] = getNameFromEmail(unanonymizedData, email)\n",
    "        allNames.loc[getStreamlinedString(email), stem] = \"done\"\n",
    "            \n",
    "#    allNames = allNames.append(names, sort=True).transpose().drop(index='Name')\n",
    "allNames = allNames.sort_index()\n",
    "allNames1 = allNames.copy()\n",
    "#allNames = allNames.fillna(\"-\")\n",
    "#allNames\n",
    "\n",
    "todrop = set()\n",
    "for email in allNames.index:\n",
    "    if email not in todrop:\n",
    "        name = allNames.loc[email, \"name\"]\n",
    "        otherEmails = set(allNames.index) - set([email])\n",
    "        #if name in allNames.loc[otherEmails, \"name\"].values:\n",
    "        #if getStreamlinedString(name) in [getStreamlinedString(n) for n in allNames.loc[otherEmails,\"name\"]]:\n",
    "        #if getStreamlinedString(name) in \\\n",
    "        #[getStreamlinedString(n) for n in allNames.loc[otherEmails, \"name\"].values]:\n",
    "        matches = allNames[allNames[\"name\"].apply(getStreamlinedString)==getStreamlinedString(name)]\n",
    "        if len(matches) > 1:\n",
    "            if debugOn:\n",
    "                print()\n",
    "                print(name + \", \" + email)\n",
    "            for match in matches.index:\n",
    "                if match != email:\n",
    "                    if debugOn:\n",
    "                        print(\"- addressing match \" + match)\n",
    "            # merge lines with same names\n",
    "                    for stem in dataFilesStems:\n",
    "                        matchValue = allNames.loc[match, stem]\n",
    "                        if debugOn:\n",
    "                            print(\"- - matchValue \" + str(matchValue))\n",
    "                        newValue = allNames.loc[email, stem]\n",
    "                        if pd.isna(newValue):\n",
    "                            newValue = allNames.loc[match, stem]\n",
    "                        if debugOn:\n",
    "                            print(\"- - newValue \" + str(newValue))\n",
    "                        oldValue = allNames.loc[email, stem]\n",
    "                        if debugOn:\n",
    "                            print(\"- - oldValue \" + str(oldValue))\n",
    "                        allNames.loc[email, stem] = newValue\n",
    "                        if debugOn:\n",
    "                            print(\"- - addressing column \" + stem + \" by putting value \"\\\n",
    "                              + str(newValue) + \" instead of \" + str(oldValue))\n",
    "                    if debugOn:\n",
    "                        print(\"adding this to drop list: \" + match)\n",
    "                    todrop.add(match)\n",
    "for elt in todrop:\n",
    "    if debugOn:\n",
    "        print(\"dropping \" + elt)\n",
    "    allNames = allNames.drop(elt)\n",
    "allNames = allNames.fillna(\"\")\n",
    "allNames"
   ]
  },
  {
   "cell_type": "code",
   "execution_count": null,
   "metadata": {},
   "outputs": [],
   "source": [
    "adr1 = \"burunga.enock@yahoo.com\"\n",
    "adr2 = \"rutaisire25@gmail.com\"\n",
    "adr3 = \"rutaisuee@gmail.com\"\n",
    "allNames1.loc[adr1,:], allNames1.loc[adr2,:], allNames1.loc[adr3,:], allNames.loc[adr1,:]"
   ]
  },
  {
   "cell_type": "code",
   "execution_count": null,
   "metadata": {},
   "outputs": [],
   "source": [
    "allNames1.loc[adr1, stem], allNames1.loc[adr2, stem], (allNames1.loc[adr2, stem] or allNames1.loc[adr1, stem])"
   ]
  },
  {
   "cell_type": "code",
   "execution_count": null,
   "metadata": {},
   "outputs": [],
   "source": [
    "matches = allNames[allNames[\"name\"].apply(getStreamlinedString)==getStreamlinedString(\"Burunga enock\")]\n",
    "for match in matches.index:\n",
    "    print(match)\n",
    "\n",
    "allNames[allNames[\"name\"].apply(getStreamlinedString)==getStreamlinedString(\"Burunga enock\")]\n",
    "\n",
    "len(allNames[allNames[\"name\"].apply(getStreamlinedString)==getStreamlinedString(name)])"
   ]
  },
  {
   "cell_type": "code",
   "execution_count": null,
   "metadata": {},
   "outputs": [],
   "source": [
    "len(allNames)"
   ]
  }
 ],
 "metadata": {
  "kernelspec": {
   "display_name": "Python 3",
   "language": "python",
   "name": "python3"
  },
  "language_info": {
   "codemirror_mode": {
    "name": "ipython",
    "version": 3
   },
   "file_extension": ".py",
   "mimetype": "text/x-python",
   "name": "python",
   "nbconvert_exporter": "python",
   "pygments_lexer": "ipython3",
   "version": "3.7.3"
  }
 },
 "nbformat": 4,
 "nbformat_minor": 2
}
