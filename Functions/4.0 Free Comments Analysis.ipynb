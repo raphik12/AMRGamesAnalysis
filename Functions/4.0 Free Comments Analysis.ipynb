{
 "cells": [
  {
   "cell_type": "markdown",
   "metadata": {},
   "source": [
    "# 4.0 Free Comments Analysis"
   ]
  },
  {
   "cell_type": "code",
   "execution_count": null,
   "metadata": {},
   "outputs": [],
   "source": [
    "%run \"0.0 Data preparation.ipynb\""
   ]
  },
  {
   "cell_type": "code",
   "execution_count": null,
   "metadata": {},
   "outputs": [],
   "source": [
    "remarksQuestion = data20190603SUSNormalized.columns[len(data20190603SUSNormalized.columns)-1]\n",
    "remarksQuestion"
   ]
  },
  {
   "cell_type": "code",
   "execution_count": null,
   "metadata": {},
   "outputs": [],
   "source": [
    "remarks = data20190603SUSNormalized.loc[:, [gameQuestion, remarksQuestion]]\n",
    "remarks = [r for r in remarks.values if not pd.isna(r[1])]\n",
    "remarks = pd.DataFrame(remarks, columns=[gameQuestion, remarksQuestion])\n",
    "remarks"
   ]
  },
  {
   "cell_type": "code",
   "execution_count": null,
   "metadata": {
    "scrolled": false
   },
   "outputs": [],
   "source": [
    "for r in remarks.values:\n",
    "    print(r[1])\n",
    "    print()"
   ]
  },
  {
   "cell_type": "code",
   "execution_count": null,
   "metadata": {},
   "outputs": [],
   "source": [
    "questionArrayInt[len(questionArrayInt)-1]"
   ]
  },
  {
   "cell_type": "markdown",
   "metadata": {},
   "source": [
    "# Sentiment Analysis of Anthem’s Game Launch in Python\n",
    "https://towardsdatascience.com/sentiment-analysis-of-anthem-game-launch-in-python-16be9e5083d2 by William Masse"
   ]
  },
  {
   "cell_type": "code",
   "execution_count": null,
   "metadata": {
    "scrolled": true
   },
   "outputs": [],
   "source": [
    "from twitterscraper import query_tweets\n",
    "from vaderSentiment.vaderSentiment import SentimentIntensityAnalyzer\n",
    "import datetime as dt\n",
    "from langdetect import detect"
   ]
  },
  {
   "cell_type": "markdown",
   "metadata": {},
   "source": [
    "### WARNING: takes several minutes to complete!"
   ]
  },
  {
   "cell_type": "code",
   "execution_count": null,
   "metadata": {},
   "outputs": [],
   "source": [
    "begin_date = dt.datetime.strptime(\"Jan 15 2019\", \"%b %d %Y\").date()\n",
    "end_date = dt.datetime.strptime(\"Jan 31 2019\", \"%b %d %Y\").date()\n",
    "tweets = query_tweets(\"#Anthem OR #AnthemGame\",begindate=begin_date,enddate=end_date)"
   ]
  },
  {
   "cell_type": "code",
   "execution_count": null,
   "metadata": {},
   "outputs": [],
   "source": [
    "len(tweets)"
   ]
  },
  {
   "cell_type": "markdown",
   "metadata": {},
   "source": [
    "### dataframe creation"
   ]
  },
  {
   "cell_type": "code",
   "execution_count": null,
   "metadata": {},
   "outputs": [],
   "source": [
    "tweet_list = (t.__dict__ for t in tweets)\n",
    "df = pd.DataFrame(tweet_list)"
   ]
  },
  {
   "cell_type": "markdown",
   "metadata": {},
   "source": [
    "### language detection"
   ]
  },
  {
   "cell_type": "code",
   "execution_count": null,
   "metadata": {},
   "outputs": [],
   "source": [
    "df['lang'] = df['text'].map(lambda x: detect(x))\n",
    "df = df[df['lang']=='en']"
   ]
  },
  {
   "cell_type": "markdown",
   "metadata": {},
   "source": [
    "### sentiment analysis"
   ]
  },
  {
   "cell_type": "code",
   "execution_count": null,
   "metadata": {},
   "outputs": [],
   "source": [
    "analyzer = SentimentIntensityAnalyzer()"
   ]
  },
  {
   "cell_type": "markdown",
   "metadata": {},
   "source": [
    "VADER will return a dictionary of 4 scores for any text you pass it; Positive, Neutral, Negative, and Compound scores, all ranging from -1 to 1. We’ll be mostly interested in the compound scores for tracking the overall sentiment of a tweet.\n",
    "\n",
    "From here we make a new Series of data that contains the sentiment of our tweet’s text and concatenate it to our original dataframe."
   ]
  },
  {
   "cell_type": "code",
   "execution_count": null,
   "metadata": {},
   "outputs": [],
   "source": [
    "sentiment = df['text'].apply(lambda x: analyzer.polarity_scores(x))\n",
    "df = pd.concat([df,sentiment.apply(pd.Series)],1)"
   ]
  },
  {
   "cell_type": "code",
   "execution_count": null,
   "metadata": {},
   "outputs": [],
   "source": [
    "df.describe()"
   ]
  },
  {
   "cell_type": "markdown",
   "metadata": {},
   "source": [
    "### graphical representation"
   ]
  },
  {
   "cell_type": "code",
   "execution_count": null,
   "metadata": {},
   "outputs": [],
   "source": [
    "df.sort_values(by='timestamp', inplace=True)\n",
    "df.index = pd.to_datetime(df['timestamp'])\n",
    "df['mean'] = df['compound'].expanding().mean()\n",
    "df['rolling'] = df['compound'].rolling('6h').mean()"
   ]
  },
  {
   "cell_type": "code",
   "execution_count": null,
   "metadata": {
    "scrolled": true
   },
   "outputs": [],
   "source": [
    "type(df['timestamp'][0])"
   ]
  },
  {
   "cell_type": "code",
   "execution_count": null,
   "metadata": {
    "scrolled": true
   },
   "outputs": [],
   "source": [
    "len(df['timestamp'])"
   ]
  },
  {
   "cell_type": "code",
   "execution_count": null,
   "metadata": {},
   "outputs": [],
   "source": [
    "type(df['compound'][0])"
   ]
  },
  {
   "cell_type": "code",
   "execution_count": null,
   "metadata": {
    "scrolled": true
   },
   "outputs": [],
   "source": [
    "len(df['compound'][0:100])"
   ]
  },
  {
   "cell_type": "code",
   "execution_count": null,
   "metadata": {},
   "outputs": [],
   "source": [
    "fig = plt.figure(figsize=(20,5))\n",
    "ax = fig.add_subplot(111)\n",
    "ax.scatter(df.index, df['compound'], label='Tweet Sentiment')\n",
    "ax.plot(df['timestamp'],df['rolling'], color ='r', label='Rolling Mean')\n",
    "ax.plot(df['timestamp'],df['mean'], color='y', label='Expanding Mean')\n",
    "ax.set_xlim([dt.date(2019,1,15),dt.date(2019,1,31)])\n",
    "ax.set(title='Anthem Tweets over Time', xlabel='Date', ylabel='Sentiment')\n",
    "ax.legend(loc='best')\n",
    "fig.tight_layout()\n",
    "plt.show()"
   ]
  },
  {
   "cell_type": "markdown",
   "metadata": {},
   "source": [
    "### Sentiment distribution"
   ]
  },
  {
   "cell_type": "code",
   "execution_count": null,
   "metadata": {},
   "outputs": [],
   "source": [
    "fig = plt.figure(figsize=(10,5))\n",
    "ax = fig.add_subplot(111)\n",
    "sns.distplot(df['compound'], bins=15, ax=ax)\n",
    "plt.show()"
   ]
  },
  {
   "cell_type": "markdown",
   "metadata": {},
   "source": [
    "# Adaptation to our Q12 comments"
   ]
  },
  {
   "cell_type": "code",
   "execution_count": null,
   "metadata": {},
   "outputs": [],
   "source": [
    "gameAnalyzer = SentimentIntensityAnalyzer()"
   ]
  },
  {
   "cell_type": "code",
   "execution_count": null,
   "metadata": {},
   "outputs": [],
   "source": [
    "remarks.columns"
   ]
  },
  {
   "cell_type": "code",
   "execution_count": null,
   "metadata": {},
   "outputs": [],
   "source": [
    "sentiment = remarks[remarksQuestion].apply(lambda x: gameAnalyzer.polarity_scores(x))\n",
    "remarks = pd.concat([remarks,sentiment.apply(pd.Series)],1)"
   ]
  },
  {
   "cell_type": "code",
   "execution_count": null,
   "metadata": {},
   "outputs": [],
   "source": [
    "remarks.head()"
   ]
  },
  {
   "cell_type": "code",
   "execution_count": null,
   "metadata": {
    "scrolled": false
   },
   "outputs": [],
   "source": [
    "sentimentFilenamePathStem = \"remarks-sentiment-analysis/\"\n",
    "\n",
    "fig = plt.figure(figsize=(10,5))\n",
    "ax = fig.add_subplot(111)\n",
    "sns.distplot(remarks['compound'], bins=15, ax=ax)\n",
    "plt.title(\"distribution of positive and negative remarks\")\n",
    "plt.show()\n",
    "\n",
    "filename = sentimentFilenamePathStem + \"distplot\"\n",
    "fig.savefig(filename)"
   ]
  },
  {
   "cell_type": "markdown",
   "metadata": {},
   "source": [
    "# Python for NLP: Sentiment Analysis with Scikit-Learn\n",
    "https://stackabuse.com/python-for-nlp-sentiment-analysis-with-scikit-learn/ by Usman Malik\n",
    "https://towardsdatascience.com/sentiment-analysis-of-anthem-game-launch-in-python-16be9e5083d2 by William Masse"
   ]
  }
 ],
 "metadata": {
  "kernelspec": {
   "display_name": "Python 3",
   "language": "python",
   "name": "python3"
  }
 },
 "nbformat": 4,
 "nbformat_minor": 2
}
