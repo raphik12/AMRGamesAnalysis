{
 "cells": [
  {
   "cell_type": "code",
   "execution_count": null,
   "metadata": {},
   "outputs": [],
   "source": [
    "%run \"0.0 Data preparation.ipynb\""
   ]
  },
  {
   "cell_type": "code",
   "execution_count": null,
   "metadata": {},
   "outputs": [],
   "source": [
    "filenamePathStem = \"pie charts/\""
   ]
  },
  {
   "cell_type": "code",
   "execution_count": null,
   "metadata": {},
   "outputs": [],
   "source": [
    "question0 = shortQuestions['Q01']\n",
    "game0 = gameDrBugTitle"
   ]
  },
  {
   "cell_type": "code",
   "execution_count": null,
   "metadata": {},
   "outputs": [],
   "source": [
    "def getFormattedPercentageAndAbsoluteValueFunction(total):\n",
    "    return lambda p: '{:1.1f}%'.format(p) + ' ({:.0f})'.format(round(p * total / 100))"
   ]
  },
  {
   "cell_type": "code",
   "execution_count": null,
   "metadata": {},
   "outputs": [],
   "source": [
    "def plotPieChartForGameAndQuestion(game, question, saveFig=False, filename=None):\n",
    "    fig = plt.figure()\n",
    "    ax1 = plt.subplot(111)\n",
    "    data = data20190603.loc[data20190603[gameQuestion]==game][question].value_counts().sort_index()\n",
    "#    colors = plt.cm.XXXXX(np.linspace(1, 0, 5)) | (np.arange(5)/(5))\n",
    "#    cm.rainbow, cm.jet, cm.Set3, cm.Pastel1\n",
    "    colors = cm.jet(np.linspace(1, 0, 5))\n",
    "    plt.pie(data.values, labels=data.index,\\\n",
    "            autopct=getFormattedPercentageAndAbsoluteValueFunction(data.sum()),\\\n",
    "            colors=colors,\\\n",
    "            shadow=True)\n",
    "    figureTitle = game + \":\\n\" + question\n",
    "    plt.title(figureTitle)\n",
    "    plt.show()\n",
    "    if saveFig:\n",
    "        shortQuestion = shortQuestions.index[shortQuestions.values==question].values[0]\n",
    "        if filename==None:\n",
    "            gamename = game.replace(\":\", \"\").replace(\" \", \"-\")\n",
    "            filename = filenamePathStem + gamename + \"/\" + gamename + \"_\" + shortQuestion\n",
    "        fig.savefig(filename)\n",
    "#plotPieChartForGameAndQuestion(game0, question0, saveFig=False)"
   ]
  },
  {
   "cell_type": "code",
   "execution_count": null,
   "metadata": {},
   "outputs": [],
   "source": [
    "sfor game in games:\n",
    "    for question in shortQuestions[0:11]:\n",
    "        plotPieChartForGameAndQuestion(game, question, saveFig=True)"
   ]
  }
 ],
 "metadata": {
  "kernelspec": {
   "display_name": "Python 3",
   "language": "python",
   "name": "python3"
  },
  "language_info": {
   "codemirror_mode": {
    "name": "ipython",
    "version": 3
   },
   "file_extension": ".py",
   "mimetype": "text/x-python",
   "name": "python",
   "nbconvert_exporter": "python",
   "pygments_lexer": "ipython3",
   "version": "3.6.5"
  }
 },
 "nbformat": 4,
 "nbformat_minor": 2
}
