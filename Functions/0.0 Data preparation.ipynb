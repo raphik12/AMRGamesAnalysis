{
 "cells": [
  {
   "cell_type": "markdown",
   "metadata": {},
   "source": [
    "# 0.0 Data preparation"
   ]
  },
  {
   "cell_type": "markdown",
   "metadata": {},
   "source": [
    "# Preparation\n",
    "\n",
    "Imports libraries\n",
    "\n",
    "Loads data"
   ]
  },
  {
   "cell_type": "code",
   "execution_count": null,
   "metadata": {},
   "outputs": [],
   "source": [
    "%matplotlib inline\n",
    "\n",
    "print(\"0.0 data preparation\")\n",
    "\n",
    "import numpy as np\n",
    "import pandas as pd\n",
    "import matplotlib.pyplot as plt\n",
    "import matplotlib.cm as cm\n",
    "import matplotlib.transforms as tr\n",
    "import seaborn as sns\n",
    "import re\n",
    "import json\n",
    "import datetime\n",
    "import random\n",
    "\n",
    "from random import randint\n",
    "from ipywidgets import FloatProgress,IntProgress,IntText,Text,interact,interactive,IntSlider,FloatSlider\n",
    "from IPython.display import display\n",
    "from itertools import chain\n",
    "from scipy.stats import ttest_ind"
   ]
  },
  {
   "cell_type": "code",
   "execution_count": null,
   "metadata": {},
   "outputs": [],
   "source": [
    "pd.__version__"
   ]
  },
  {
   "cell_type": "code",
   "execution_count": null,
   "metadata": {},
   "outputs": [],
   "source": [
    "np.__version__"
   ]
  },
  {
   "cell_type": "code",
   "execution_count": null,
   "metadata": {},
   "outputs": [],
   "source": [
    "processRaw20190603 = not ('raw20190603' in globals())"
   ]
  },
  {
   "cell_type": "markdown",
   "metadata": {},
   "source": [
    "### common variables"
   ]
  },
  {
   "cell_type": "code",
   "execution_count": null,
   "metadata": {},
   "outputs": [],
   "source": [
    "unanonymizedDataFilesNamesStem = \"2019-06-03_event_raw_unanonymized\"\n",
    "dataFilesNamesStem = \"2019-06-03_event_raw\"\n",
    "\n",
    "dataFolderPath = \"../Data/\"\n",
    "csvSuffix = '.csv'"
   ]
  },
  {
   "cell_type": "code",
   "execution_count": null,
   "metadata": {},
   "outputs": [],
   "source": [
    "unanonymizedRaw20190603Path = dataFolderPath + unanonymizedDataFilesNamesStem + csvSuffix\n",
    "raw20190603Path = dataFolderPath + dataFilesNamesStem + csvSuffix"
   ]
  },
  {
   "cell_type": "code",
   "execution_count": null,
   "metadata": {},
   "outputs": [],
   "source": [
    "questionCount = 12\n",
    "firstLikertQuestionIndex = 0\n",
    "lastLikertQuestionIndex = 11\n",
    "firstSUSQuestionIndex = 0\n",
    "lastSUSQuestionIndex = 10\n",
    "questionArrayInt = [i+1 for i in range(questionCount)]\n",
    "questionArrayStr = sorted([\"Q\" + \"{0:0=2d}\".format(i) for i in questionArrayInt])\n",
    "questionArrayStr"
   ]
  },
  {
   "cell_type": "markdown",
   "metadata": {},
   "source": [
    "# data anonymization"
   ]
  },
  {
   "cell_type": "code",
   "execution_count": null,
   "metadata": {},
   "outputs": [],
   "source": [
    "doPreprocessing = False"
   ]
  },
  {
   "cell_type": "code",
   "execution_count": null,
   "metadata": {},
   "outputs": [],
   "source": [
    "if doPreprocessing:\n",
    "    unanonymizedRaw20190603 = pd.read_csv(unanonymizedRaw20190603Path,dtype=str)\n",
    "\n",
    "    unanonymizedRaw20190603 = unanonymizedRaw20190603.drop(axis=1, columns=['Email'])\n",
    "\n",
    "    nameSet = set(unanonymizedRaw20190603['Name'])\n",
    "    nameSeries = pd.Series(list(nameSet))\n",
    "    for answerIndex in unanonymizedRaw20190603.index:\n",
    "        name = unanonymizedRaw20190603.loc[answerIndex, 'Name']\n",
    "        unanonymizedRaw20190603.loc[answerIndex, 'Name'] = nameSeries.index[nameSeries == name][0]\n",
    "\n",
    "    unanonymizedRaw20190603.to_csv(raw20190603Path, encoding='utf-8')"
   ]
  },
  {
   "cell_type": "code",
   "execution_count": null,
   "metadata": {},
   "outputs": [],
   "source": [
    "#test = pd.read_csv(raw20190603Path,dtype=str)\n",
    "#test = test.drop(axis=1, columns=test.columns[0])\n",
    "#test"
   ]
  },
  {
   "cell_type": "markdown",
   "metadata": {},
   "source": [
    "# Functions"
   ]
  },
  {
   "cell_type": "markdown",
   "metadata": {},
   "source": [
    "## Loading"
   ]
  },
  {
   "cell_type": "code",
   "execution_count": null,
   "metadata": {},
   "outputs": [],
   "source": [
    "#dateparseGForm = lambda x: pd.Timestamp(str(x).split(' GMT')[0], tz='Asia/Kolkata') #.tz_convert('utc')\n",
    "raw20190603  = pd.read_csv(raw20190603Path,dtype=str)\n",
    "raw20190603 = raw20190603.drop(axis=1, columns=raw20190603.columns[0])"
   ]
  },
  {
   "cell_type": "code",
   "execution_count": null,
   "metadata": {
    "scrolled": true
   },
   "outputs": [],
   "source": [
    "raw20190603.columns"
   ]
  },
  {
   "cell_type": "code",
   "execution_count": null,
   "metadata": {},
   "outputs": [],
   "source": [
    "timestampQuestion = raw20190603.columns[0]\n",
    "idQuestion = \"ID\""
   ]
  },
  {
   "cell_type": "code",
   "execution_count": null,
   "metadata": {},
   "outputs": [],
   "source": [
    "columns = raw20190603.columns.values\n",
    "columns[1] = idQuestion\n",
    "raw20190603.columns = columns"
   ]
  },
  {
   "cell_type": "code",
   "execution_count": null,
   "metadata": {},
   "outputs": [],
   "source": [
    "gameQuestion = raw20190603.columns[2]\n",
    "gameQuestion"
   ]
  },
  {
   "cell_type": "code",
   "execution_count": null,
   "metadata": {},
   "outputs": [],
   "source": [
    "shortQuestions = pd.Series(index=questionArrayStr, data=raw20190603.columns[3:])\n",
    "shortQuestions"
   ]
  },
  {
   "cell_type": "code",
   "execution_count": null,
   "metadata": {},
   "outputs": [],
   "source": [
    "indexedQuestions = pd.Series(index=range(1,13), data=raw20190603.columns[3:])\n",
    "indexedQuestions"
   ]
  },
  {
   "cell_type": "code",
   "execution_count": null,
   "metadata": {},
   "outputs": [],
   "source": [
    "indexedLikertQuestions = indexedQuestions[firstLikertQuestionIndex:lastLikertQuestionIndex]\n",
    "indexedLikertQuestions"
   ]
  },
  {
   "cell_type": "code",
   "execution_count": null,
   "metadata": {},
   "outputs": [],
   "source": [
    "shortLikertQuestions = shortQuestions[firstLikertQuestionIndex:lastLikertQuestionIndex]\n",
    "shortLikertQuestions"
   ]
  },
  {
   "cell_type": "code",
   "execution_count": null,
   "metadata": {},
   "outputs": [],
   "source": [
    "indexedSUSQuestions = indexedQuestions[firstSUSQuestionIndex:lastSUSQuestionIndex]\n",
    "indexedSUSQuestions"
   ]
  },
  {
   "cell_type": "code",
   "execution_count": null,
   "metadata": {},
   "outputs": [],
   "source": [
    "shortSUSQuestions = shortQuestions[firstSUSQuestionIndex:lastSUSQuestionIndex]\n",
    "shortSUSQuestions"
   ]
  },
  {
   "cell_type": "code",
   "execution_count": null,
   "metadata": {},
   "outputs": [],
   "source": [
    "games = raw20190603[gameQuestion].unique()\n",
    "games"
   ]
  },
  {
   "cell_type": "code",
   "execution_count": null,
   "metadata": {},
   "outputs": [],
   "source": [
    "gameDrBugTitle = 'Dr Bug: Microbe Mayhem'\n",
    "gameSuperbugsTitle = 'Superbugs: the Game'\n",
    "gameFungalTitle = 'Fungal Invasion'"
   ]
  },
  {
   "cell_type": "code",
   "execution_count": null,
   "metadata": {},
   "outputs": [],
   "source": [
    "shortGameNames = pd.Series(index=games, data=['Dr Bug', 'Superbugs', 'Fungal Invasion'])\n",
    "shortGameNames"
   ]
  },
  {
   "cell_type": "code",
   "execution_count": null,
   "metadata": {},
   "outputs": [],
   "source": [
    "def getShortGameTitle(longGameName):\n",
    "    return shortGameNames.get(longGameName, \"unknown\")"
   ]
  },
  {
   "cell_type": "code",
   "execution_count": null,
   "metadata": {},
   "outputs": [],
   "source": [
    "data20190603 = raw20190603.copy()\n",
    "for question in indexedLikertQuestions:\n",
    "    for respondent in data20190603.index:\n",
    "        try:\n",
    "            data20190603.loc[respondent, question] = int(data20190603.loc[respondent, question])\n",
    "        except:\n",
    "            data20190603.loc[respondent, question] = np.nan"
   ]
  },
  {
   "cell_type": "code",
   "execution_count": null,
   "metadata": {},
   "outputs": [],
   "source": [
    "positiveQuestions = indexedLikertQuestions.copy()\n",
    "positiveQuestions = positiveQuestions[positiveQuestions.index % 2 == 1]\n",
    "negativeQuestions = indexedLikertQuestions.copy()\n",
    "negativeQuestions = negativeQuestions[negativeQuestions.index % 2 == 0]"
   ]
  },
  {
   "cell_type": "code",
   "execution_count": null,
   "metadata": {},
   "outputs": [],
   "source": [
    "# transforms the agreement scores (1-5 Likert scale) into a 0-4 mark with 0 = bad and 4 = great\n",
    "data20190603SUSNormalized = data20190603.copy()\n",
    "for respondant in data20190603SUSNormalized.index:\n",
    "    for question in indexedLikertQuestions:\n",
    "        answer = data20190603SUSNormalized.loc[respondant, question]\n",
    "        if pd.notna(answer):\n",
    "            if question in negativeQuestions.values:            \n",
    "                data20190603SUSNormalized.loc[respondant, question] = answer-1\n",
    "            else:\n",
    "                data20190603SUSNormalized.loc[respondant, question] = 5-answer"
   ]
  }
 ],
 "metadata": {
  "kernelspec": {
   "display_name": "Python 3",
   "language": "python",
   "name": "python3"
  },
  "language_info": {
   "codemirror_mode": {
    "name": "ipython",
    "version": 3
   },
   "file_extension": ".py",
   "mimetype": "text/x-python",
   "name": "python",
   "nbconvert_exporter": "python",
   "pygments_lexer": "ipython3",
   "version": "3.6.5"
  }
 },
 "nbformat": 4,
 "nbformat_minor": 1
}
