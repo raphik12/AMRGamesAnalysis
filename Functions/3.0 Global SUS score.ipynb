{
 "cells": [
  {
   "cell_type": "code",
   "execution_count": null,
   "metadata": {},
   "outputs": [],
   "source": [
    "%run \"0.0 Data preparation.ipynb\""
   ]
  },
  {
   "cell_type": "markdown",
   "metadata": {},
   "source": [
    "## SUS score functions"
   ]
  },
  {
   "cell_type": "code",
   "execution_count": null,
   "metadata": {},
   "outputs": [],
   "source": [
    "def getSUSScore(question, game, data=data20190603SUSNormalized, printResult=True):\n",
    "    _score = 0\n",
    "    _maxScore = 0\n",
    "    _gameQuestionData = data.loc[data[gameQuestion]==game, question]\n",
    "\n",
    "    for _answer in _gameQuestionData:\n",
    "        if pd.notna(_answer):\n",
    "            _score += _answer\n",
    "            _maxScore += 4\n",
    "\n",
    "    _percentageScoreResult = _score*100/_maxScore\n",
    "    if printResult:\n",
    "        print(\"'\" + question + \"': \" + game + \" \" + '{:1.1f}%'.format(_percentageScoreResult))\n",
    "    return _percentageScoreResult"
   ]
  },
  {
   "cell_type": "markdown",
   "metadata": {},
   "source": [
    "## Best SUS scores"
   ]
  },
  {
   "cell_type": "code",
   "execution_count": null,
   "metadata": {},
   "outputs": [],
   "source": [
    "print(\"Best scores:\")\n",
    "for question in indexedLikertQuestions:\n",
    "    bestGame = \"\"\n",
    "    bestScore = 0\n",
    "    for game in games:\n",
    "        questionScore = getSUSScore(question, game, printResult=False)\n",
    "        if questionScore > bestScore:\n",
    "            bestGame = game\n",
    "            bestScore = questionScore\n",
    "    print(\"'\" + question + \"': \" + bestGame + \" \" + '{:1.1f}%'.format(bestScore))"
   ]
  },
  {
   "cell_type": "markdown",
   "metadata": {},
   "source": [
    "## Worst SUS scores"
   ]
  },
  {
   "cell_type": "code",
   "execution_count": null,
   "metadata": {},
   "outputs": [],
   "source": [
    "print(\"Worst scores:\")\n",
    "for question in indexedLikertQuestions:\n",
    "    worstGame = \"\"\n",
    "    worstScore = 100\n",
    "    for game in games:\n",
    "        questionScore = getSUSScore(question, game, printResult=False)\n",
    "        if questionScore < worstScore:\n",
    "            worstGame = game\n",
    "            worstScore = questionScore\n",
    "    print(\"'\" + question + \"': \" + worstGame + \" \" + '{:1.1f}%'.format(worstScore))"
   ]
  },
  {
   "cell_type": "markdown",
   "metadata": {},
   "source": [
    "## SUS scores matrices"
   ]
  },
  {
   "cell_type": "code",
   "execution_count": null,
   "metadata": {},
   "outputs": [],
   "source": [
    "allSUSScores = pd.DataFrame(index=indexedLikertQuestions, columns=games)\n",
    "for game in games:\n",
    "    for question in indexedLikertQuestions:\n",
    "        allSUSScores.loc[question, game] = getSUSScore(question, game, printResult=False)\n",
    "\n",
    "allSUSScores = allSUSScores.astype(float)"
   ]
  },
  {
   "cell_type": "code",
   "execution_count": null,
   "metadata": {
    "scrolled": false
   },
   "outputs": [],
   "source": [
    "saveFig = True\n",
    "filenamePathStem = \"SUS-matrices/\"\n",
    "\n",
    "# normalize using minimum\n",
    "\n",
    "fig = plt.figure()\n",
    "ax = fig.add_subplot(111)\n",
    "h = sns.heatmap(allSUSScores,\n",
    "            ax=ax,\n",
    "            cmap=plt.cm.jet,\n",
    "            vmin=0,\n",
    "            vmax=100,\n",
    "            square=True,\n",
    "            cbar_kws = dict(use_gridspec=False,location=\"left\")\n",
    "           )\n",
    "ax.yaxis.tick_right()\n",
    "plt.yticks(rotation=0);\n",
    "\n",
    "# manually moves x labels closer to their ticks\n",
    "h.set_xticklabels(ax.get_xticklabels(), rotation=30)\n",
    "indexer = 0\n",
    "for label in ax.xaxis.get_majorticklabels():\n",
    "    dx = (50 - indexer * 9)/72.; dy = 0/72. \n",
    "    offset = tr.ScaledTranslation(dx, dy, fig.dpi_scale_trans)\n",
    "    label.set_transform(label.get_transform() - offset)\n",
    "    indexer+=1    \n",
    "    \n",
    "if saveFig:\n",
    "    filename = filenamePathStem + \"SUS-score-matrix\"\n",
    "    fig.savefig(filename)"
   ]
  },
  {
   "cell_type": "code",
   "execution_count": null,
   "metadata": {
    "scrolled": false
   },
   "outputs": [],
   "source": [
    "pd.concat((allSUSScores.idxmin(), allSUSScores.min()), 1)"
   ]
  },
  {
   "cell_type": "code",
   "execution_count": null,
   "metadata": {
    "scrolled": true
   },
   "outputs": [],
   "source": [
    "pd.concat((allSUSScores.idxmax(), allSUSScores.max()), 1)"
   ]
  },
  {
   "cell_type": "markdown",
   "metadata": {},
   "source": [
    "## SUS scores variance"
   ]
  },
  {
   "cell_type": "code",
   "execution_count": null,
   "metadata": {
    "scrolled": true
   },
   "outputs": [],
   "source": [
    "def getVarianceOnQG(question, game, data=data20190603, printResult=True):\n",
    "#    print(\"Q='\"+question+\"'; G=\"+game)\n",
    "    gameQuestionData = data.loc[data[gameQuestion]==game, question]\n",
    "    gameQuestionData = [int(v) for v in gameQuestionData if pd.notna(v)]\n",
    "    return np.var(gameQuestionData)"
   ]
  },
  {
   "cell_type": "code",
   "execution_count": null,
   "metadata": {},
   "outputs": [],
   "source": [
    "allVars = pd.DataFrame(index=indexedLikertQuestions, columns=games)\n",
    "for game in games:\n",
    "    for question in indexedLikertQuestions:\n",
    "        allVars.loc[question, game] = getVarianceOnQG(question, game, printResult=False)\n",
    "\n",
    "allVars = allVars.astype(float)"
   ]
  },
  {
   "cell_type": "code",
   "execution_count": null,
   "metadata": {},
   "outputs": [],
   "source": [
    "saveFig = True\n",
    "filenamePathStem = \"SUS-matrices/\"\n",
    "\n",
    "f = plt.figure()\n",
    "ax = f.add_subplot(111)\n",
    "h = sns.heatmap(allVars,\n",
    "            ax=ax,\n",
    "            cmap=plt.cm.jet,\n",
    "            vmin=0.4,\n",
    "            vmax=2.2,\n",
    "            square=True,\n",
    "            cbar_kws = dict(use_gridspec=False,location=\"left\")\n",
    "           )\n",
    "ax.yaxis.tick_right()\n",
    "plt.yticks(rotation=0);\n",
    "\n",
    "# manually moves x labels closer to their ticks\n",
    "h.set_xticklabels(ax.get_xticklabels(), rotation=30)\n",
    "indexer = 0\n",
    "for label in ax.xaxis.get_majorticklabels():\n",
    "    dx = (50 - indexer * 9)/72.\n",
    "    dy = 0/72. \n",
    "    offset = tr.ScaledTranslation(dx, dy, f.dpi_scale_trans)\n",
    "    label.set_transform(label.get_transform() - offset)\n",
    "    indexer+=1\n",
    "\n",
    "if saveFig:\n",
    "    filename = filenamePathStem + \"SUS-score-variance-matrix\"\n",
    "    fig.savefig(filename)"
   ]
  },
  {
   "cell_type": "code",
   "execution_count": null,
   "metadata": {},
   "outputs": [],
   "source": [
    "# recommendations:\n",
    "#    - best game: which questions?\n",
    "#    "
   ]
  },
  {
   "cell_type": "code",
   "execution_count": null,
   "metadata": {
    "scrolled": false
   },
   "outputs": [],
   "source": [
    "pd.concat((allVars.idxmin(), allVars.min()), 1)"
   ]
  },
  {
   "cell_type": "code",
   "execution_count": null,
   "metadata": {
    "scrolled": true
   },
   "outputs": [],
   "source": [
    "pd.concat((allVars.idxmax(), allVars.max()), 1)"
   ]
  },
  {
   "cell_type": "markdown",
   "metadata": {},
   "source": [
    "# Global SUS score"
   ]
  },
  {
   "cell_type": "code",
   "execution_count": null,
   "metadata": {},
   "outputs": [],
   "source": [
    "getSUSScore(question, game, data=data20190603SUSNormalized, printResult=False)"
   ]
  },
  {
   "cell_type": "code",
   "execution_count": null,
   "metadata": {},
   "outputs": [],
   "source": [
    "totalSUSScore = 0\n",
    "questionSUSScore = 0\n",
    "for game in games:\n",
    "    print(\"---------------------------------------------------------------------------\")\n",
    "    print(game)\n",
    "    for question in indexedSUSQuestions:\n",
    "        questionSUSScore = getSUSScore(question, game, data=data20190603SUSNormalized, printResult=False)\n",
    "        totalSUSScore += questionSUSScore\n",
    "        print('{:1.1f}%'.format(questionSUSScore) + \" \" + question)\n",
    "    totalSUSScore = totalSUSScore / (len(indexedSUSQuestions))\n",
    "    print('{:1.1f}%'.format(totalSUSScore))"
   ]
  }
 ],
 "metadata": {
  "kernelspec": {
   "display_name": "Python 3",
   "language": "python",
   "name": "python3"
  },
  "language_info": {
   "codemirror_mode": {
    "name": "ipython",
    "version": 3
   },
   "file_extension": ".py",
   "mimetype": "text/x-python",
   "name": "python",
   "nbconvert_exporter": "python",
   "pygments_lexer": "ipython3",
   "version": "3.7.3"
  }
 },
 "nbformat": 4,
 "nbformat_minor": 2
}
