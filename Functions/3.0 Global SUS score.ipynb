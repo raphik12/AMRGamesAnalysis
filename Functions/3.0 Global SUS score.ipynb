{
 "cells": [
  {
   "cell_type": "code",
   "execution_count": null,
   "metadata": {},
   "outputs": [],
   "source": [
    "%run \"0.0 Data preparation.ipynb\""
   ]
  },
  {
   "cell_type": "code",
   "execution_count": null,
   "metadata": {},
   "outputs": [],
   "source": [
    "positiveQuestions = indexedQuestions[indexedQuestions.index % 2 == 1]\n",
    "negativeQuestions = indexedQuestions[0:11]\n",
    "negativeQuestions = negativeQuestions[negativeQuestions.index % 2 == 0]"
   ]
  },
  {
   "cell_type": "code",
   "execution_count": null,
   "metadata": {},
   "outputs": [],
   "source": [
    "for game in games:\n",
    "    globalScore = 0\n",
    "    maxScore = 0\n",
    "    globalScoreData = raw20190603.loc[raw20190603[gameQuestion]==game]\n",
    "    globalScoreDataPositive = globalScoreData.loc[:,positiveQuestions.values].fillna(0)\n",
    "    globalScoreDataNegative = globalScoreData.loc[:,negativeQuestions.values].fillna(0)\n",
    "    #globalScore.sum(axis=0)\n",
    "    for question in globalScoreDataPositive:\n",
    "        for answer in globalScoreDataPositive[question]:\n",
    "            globalScore += (5-int(answer))\n",
    "            maxScore += 4\n",
    "    for question in globalScoreDataNegative:\n",
    "        for answer in globalScoreDataNegative[question]:\n",
    "            globalScore += (int(answer)-1)\n",
    "            maxScore += 4\n",
    "    print(game + \": \" + str(globalScore/maxScore))"
   ]
  },
  {
   "cell_type": "code",
   "execution_count": null,
   "metadata": {},
   "outputs": [],
   "source": [
    "for game in games:\n",
    "#    print(game)\n",
    "    globalScore = 0\n",
    "    maxScore = 0\n",
    "    globalScoreData = raw20190603.loc[raw20190603[gameQuestion]==game]\n",
    "    globalScoreDataPositive = globalScoreData.loc[:,positiveQuestions.values]\n",
    "    globalScoreDataNegative = globalScoreData.loc[:,negativeQuestions.values]\n",
    "    #globalScore.sum(axis=0)\n",
    "    for question in globalScoreDataPositive:\n",
    "#        print(question)\n",
    "        for answer in globalScoreDataPositive[question]:\n",
    "            if pd.notna(answer):\n",
    "                globalScore += (5-int(answer))\n",
    "                maxScore += 4\n",
    "    for question in globalScoreDataNegative:\n",
    "#        print(question)\n",
    "        for answer in globalScoreDataNegative[question]:\n",
    "            if pd.notna(answer):\n",
    "                globalScore += (int(answer)-1)\n",
    "                maxScore += 4\n",
    "    print(game + \": \" + str(globalScore/maxScore))"
   ]
  },
  {
   "cell_type": "code",
   "execution_count": null,
   "metadata": {},
   "outputs": [],
   "source": [
    "for question in indexedQuestions[0:11]:\n",
    "    #question = indexedQuestions[4]\n",
    "    bestGame = \"\"\n",
    "    bestScore = 0\n",
    "    for game in {games[0],games[2]}:\n",
    "    #    print(game)\n",
    "        questionScore = 0\n",
    "        maxScore = 0\n",
    "        globalScoreData = raw20190603.loc[raw20190603[gameQuestion]==game]\n",
    "        globalScoreDataPositive = globalScoreData.loc[:,positiveQuestions.values]\n",
    "        globalScoreDataNegative = globalScoreData.loc[:,negativeQuestions.values]\n",
    "        #globalScore.sum(axis=0)\n",
    "        if question in globalScoreDataPositive:\n",
    "    #        print(question)\n",
    "            for answer in globalScoreDataPositive[question]:\n",
    "                if pd.notna(answer):\n",
    "                    questionScore += (5-int(answer))\n",
    "                    maxScore += 4\n",
    "        else:\n",
    "    #        print(question)\n",
    "            for answer in globalScoreDataNegative[question]:\n",
    "                if pd.notna(answer):\n",
    "                    questionScore += (int(answer)-1)\n",
    "                    maxScore += 4\n",
    "        if questionScore > bestScore:\n",
    "            bestGame = game\n",
    "            bestScore = questionScore\n",
    "    print(\"'\" + question + \"': \" + bestGame + \" \" + '{:1.1f}%'.format(bestScore*100/maxScore))"
   ]
  }
 ],
 "metadata": {
  "kernelspec": {
   "display_name": "Python 3",
   "language": "python",
   "name": "python3"
  },
  "language_info": {
   "codemirror_mode": {
    "name": "ipython",
    "version": 3
   },
   "file_extension": ".py",
   "mimetype": "text/x-python",
   "name": "python",
   "nbconvert_exporter": "python",
   "pygments_lexer": "ipython3",
   "version": "3.6.5"
  }
 },
 "nbformat": 4,
 "nbformat_minor": 2
}
