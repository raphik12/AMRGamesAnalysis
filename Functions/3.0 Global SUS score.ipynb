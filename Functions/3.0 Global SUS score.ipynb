{
 "cells": [
  {
   "cell_type": "code",
   "execution_count": null,
   "metadata": {},
   "outputs": [],
   "source": [
    "%run \"0.0 Data preparation.ipynb\""
   ]
  },
  {
   "cell_type": "code",
   "execution_count": null,
   "metadata": {},
   "outputs": [],
   "source": [
    "positiveQuestions = indexedQuestions[indexedQuestions.index % 2 == 1]\n",
    "negativeQuestions = indexedQuestions[0:11]\n",
    "negativeQuestions = negativeQuestions[negativeQuestions.index % 2 == 0]"
   ]
  },
  {
   "cell_type": "code",
   "execution_count": null,
   "metadata": {},
   "outputs": [],
   "source": [
    "print(\"Best scores:\")\n",
    "for question in indexedQuestions[0:11]:\n",
    "    bestGame = \"\"\n",
    "    bestScore = 0\n",
    "    for game in games:\n",
    "        questionScore = getSUSScore(question, game, data=raw20190603, printResult=False)\n",
    "        if questionScore > bestScore:\n",
    "            bestGame = game\n",
    "            bestScore = questionScore\n",
    "    print(\"'\" + question + \"': \" + bestGame + \" \" + '{:1.1f}%'.format(bestScore))"
   ]
  },
  {
   "cell_type": "code",
   "execution_count": null,
   "metadata": {},
   "outputs": [],
   "source": [
    "print(\"Worst scores:\")\n",
    "for question in indexedQuestions[0:11]:\n",
    "    worstGame = \"\"\n",
    "    worstScore = 100\n",
    "    for game in games:\n",
    "        questionScore = getSUSScore(question, game, data=raw20190603, printResult=False)\n",
    "        if questionScore < worstScore:\n",
    "            worstGame = game\n",
    "            worstScore = questionScore\n",
    "    print(\"'\" + question + \"': \" + worstGame + \" \" + '{:1.1f}%'.format(worstScore))"
   ]
  },
  {
   "cell_type": "code",
   "execution_count": null,
   "metadata": {},
   "outputs": [],
   "source": [
    "def getSUSScore(question, game, data=raw20190603, printResult=True):\n",
    "    _score = 0\n",
    "    _maxScore = 0\n",
    "    _gameQuestionData = data.loc[data[gameQuestion]==game, question]\n",
    "\n",
    "    #globalScore.sum(axis=0)\n",
    "    if question in positiveQuestions.values:\n",
    "#        print(question)\n",
    "        for _answer in _gameQuestionData:\n",
    "            if pd.notna(_answer):\n",
    "                _score += (5-int(_answer))\n",
    "                _maxScore += 4\n",
    "    else:\n",
    "#        print(question)\n",
    "        for _answer in _gameQuestionData:\n",
    "            if pd.notna(_answer):\n",
    "                _score += (int(_answer)-1)\n",
    "                _maxScore += 4\n",
    "    _percentageScoreResult = _score*100/_maxScore\n",
    "    if printResult:\n",
    "        print(\"'\" + question + \"': \" + game + \" \" + '{:1.1f}%'.format(_percentageScoreResult))\n",
    "    return _percentageScoreResult\n",
    "    "
   ]
  },
  {
   "cell_type": "code",
   "execution_count": null,
   "metadata": {},
   "outputs": [],
   "source": [
    "allSUSScores = pd.DataFrame(index=indexedQuestions.values[0:11], columns=games)\n",
    "for game in games:\n",
    "    for question in indexedQuestions.values[0:11]:\n",
    "        allSUSScores.loc[question, game] = getSUSScore(question, game, printResult=False)\n",
    "\n",
    "allSUSScores = allSUSScores.astype(float)"
   ]
  },
  {
   "cell_type": "code",
   "execution_count": null,
   "metadata": {
    "scrolled": true
   },
   "outputs": [],
   "source": [
    "f = plt.figure()\n",
    "ax = f.add_subplot(111)\n",
    "h = sns.heatmap(allSUSScores,\n",
    "            ax=ax,\n",
    "            cmap=plt.cm.jet,\n",
    "            vmin=50,\n",
    "            vmax=100,\n",
    "            square=True,\n",
    "            cbar_kws = dict(use_gridspec=False,location=\"left\")\n",
    "           )\n",
    "ax.yaxis.tick_right()\n",
    "plt.yticks(rotation=0);\n",
    "#h.set_xticklabels(ax.get_xticklabels(), rotation=30)"
   ]
  },
  {
   "cell_type": "code",
   "execution_count": null,
   "metadata": {
    "scrolled": false
   },
   "outputs": [],
   "source": [
    "pd.concat((allSUSScores.idxmin(), allSUSScores.min()), 1)"
   ]
  },
  {
   "cell_type": "code",
   "execution_count": null,
   "metadata": {
    "scrolled": true
   },
   "outputs": [],
   "source": [
    "pd.concat((allSUSScores.idxmax(), allSUSScores.max()), 1)"
   ]
  },
  {
   "cell_type": "markdown",
   "metadata": {},
   "source": [
    "## how to display agreement and variance of answers?"
   ]
  },
  {
   "cell_type": "code",
   "execution_count": null,
   "metadata": {},
   "outputs": [],
   "source": [
    "raw20190603"
   ]
  },
  {
   "cell_type": "code",
   "execution_count": null,
   "metadata": {},
   "outputs": [],
   "source": [
    "1 or 2"
   ]
  },
  {
   "cell_type": "code",
   "execution_count": null,
   "metadata": {
    "scrolled": true
   },
   "outputs": [],
   "source": [
    "def getVarianceOnQG(question, game, data=raw20190603, printResult=True):\n",
    "#    print(\"Q='\"+question+\"'; G=\"+game)\n",
    "    data=raw20190603\n",
    "    gameQuestionData = data.loc[data[gameQuestion]==game, question]\n",
    "    gameQuestionData = [int(v) for v in gameQuestionData if pd.notna(v)]\n",
    "    return np.var(gameQuestionData)"
   ]
  },
  {
   "cell_type": "code",
   "execution_count": null,
   "metadata": {},
   "outputs": [],
   "source": [
    "allVars = pd.DataFrame(index=indexedQuestions.values[0:11], columns=games)\n",
    "for game in games:\n",
    "    for question in indexedQuestions.values[0:11]:\n",
    "        allVars.loc[question, game] = getVarianceOnQG(question, game, printResult=False)\n",
    "\n",
    "allVars = allVars.astype(float)"
   ]
  },
  {
   "cell_type": "code",
   "execution_count": null,
   "metadata": {},
   "outputs": [],
   "source": [
    "f = plt.figure()\n",
    "ax = f.add_subplot(111)\n",
    "h = sns.heatmap(allVars,\n",
    "            ax=ax,\n",
    "            cmap=plt.cm.jet,\n",
    "            vmin=0.4,\n",
    "            vmax=2.2,\n",
    "            square=True,\n",
    "            cbar_kws = dict(use_gridspec=False,location=\"left\")\n",
    "           )\n",
    "ax.yaxis.tick_right()\n",
    "plt.yticks(rotation=0);\n",
    "#h.set_xticklabels(ax.get_xticklabels(), rotation=30)"
   ]
  },
  {
   "cell_type": "code",
   "execution_count": null,
   "metadata": {
    "scrolled": false
   },
   "outputs": [],
   "source": [
    "pd.concat((allVars.idxmin(), allVars.min()), 1)"
   ]
  },
  {
   "cell_type": "code",
   "execution_count": null,
   "metadata": {
    "scrolled": false
   },
   "outputs": [],
   "source": [
    "pd.concat((allVars.idxmax(), allVars.max()), 1)"
   ]
  },
  {
   "cell_type": "code",
   "execution_count": null,
   "metadata": {},
   "outputs": [],
   "source": []
  }
 ],
 "metadata": {
  "kernelspec": {
   "display_name": "Python 3",
   "language": "python",
   "name": "python3"
  },
  "language_info": {
   "codemirror_mode": {
    "name": "ipython",
    "version": 3
   },
   "file_extension": ".py",
   "mimetype": "text/x-python",
   "name": "python",
   "nbconvert_exporter": "python",
   "pygments_lexer": "ipython3",
   "version": "3.6.5"
  }
 },
 "nbformat": 4,
 "nbformat_minor": 2
}
