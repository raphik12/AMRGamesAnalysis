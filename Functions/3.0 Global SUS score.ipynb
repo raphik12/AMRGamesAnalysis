{
 "cells": [
  {
   "cell_type": "code",
   "execution_count": 1,
   "metadata": {},
   "outputs": [
    {
     "name": "stdout",
     "output_type": "stream",
     "text": [
      "0.0 data preparation\n"
     ]
    }
   ],
   "source": [
    "%run \"0.0 Data preparation.ipynb\""
   ]
  },
  {
   "cell_type": "code",
   "execution_count": 60,
   "metadata": {},
   "outputs": [],
   "source": [
    "positiveQuestions = indexedQuestions[indexedQuestions.index % 2 == 1]\n",
    "negativeQuestions = indexedQuestions[0:11]\n",
    "negativeQuestions = negativeQuestions[negativeQuestions.index % 2 == 0]"
   ]
  },
  {
   "cell_type": "code",
   "execution_count": 59,
   "metadata": {},
   "outputs": [
    {
     "name": "stdout",
     "output_type": "stream",
     "text": [
      "Dr Bug: Microbe Mayhem: 0.7406417112299465\n",
      "Superbugs: the Game: 0.8068181818181818\n",
      "Fungal Invasion: 0.6900826446280992\n"
     ]
    }
   ],
   "source": [
    "for game in games:\n",
    "    globalScore = 0\n",
    "    maxScore = 0\n",
    "    globalScoreData = raw20190603.loc[raw20190603[gameQuestion]==game]\n",
    "    globalScoreDataPositive = globalScoreData.loc[:,positiveQuestions.values].fillna(0)\n",
    "    globalScoreDataNegative = globalScoreData.loc[:,negativeQuestions.values].fillna(0)\n",
    "    #globalScore.sum(axis=0)\n",
    "    for question in globalScoreDataPositive:\n",
    "        for answer in globalScoreDataPositive[question]:\n",
    "            globalScore += (5-int(answer))\n",
    "            maxScore += 4\n",
    "    for question in globalScoreDataNegative:\n",
    "        for answer in globalScoreDataNegative[question]:\n",
    "            globalScore += (int(answer)-1)\n",
    "            maxScore += 4\n",
    "    print(game + \": \" + str(globalScore/maxScore))"
   ]
  }
 ],
 "metadata": {
  "kernelspec": {
   "display_name": "Python 3",
   "language": "python",
   "name": "python3"
  },
  "language_info": {
   "codemirror_mode": {
    "name": "ipython",
    "version": 3
   },
   "file_extension": ".py",
   "mimetype": "text/x-python",
   "name": "python",
   "nbconvert_exporter": "python",
   "pygments_lexer": "ipython3",
   "version": "3.6.5"
  }
 },
 "nbformat": 4,
 "nbformat_minor": 2
}
