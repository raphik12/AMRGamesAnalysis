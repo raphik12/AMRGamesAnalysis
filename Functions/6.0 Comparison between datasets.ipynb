{
 "cells": [
  {
   "cell_type": "code",
   "execution_count": null,
   "metadata": {},
   "outputs": [],
   "source": [
    "%run \"0.0 Data preparation.ipynb\""
   ]
  },
  {
   "cell_type": "code",
   "execution_count": null,
   "metadata": {},
   "outputs": [],
   "source": [
    "from scipy import stats"
   ]
  },
  {
   "cell_type": "code",
   "execution_count": null,
   "metadata": {},
   "outputs": [],
   "source": [
    "_dataName1, _inputData1, _dataNameSUSNormalized1, _inputDataSUSNormalized1 = selectDataset(\"data20190603\")\n",
    "_dataName2, _inputData2, _dataNameSUSNormalized2, _inputDataSUSNormalized2 = selectDataset(\"data20190703\")"
   ]
  },
  {
   "cell_type": "code",
   "execution_count": null,
   "metadata": {},
   "outputs": [],
   "source": [
    "_inputData1NoNaN = _inputData1.dropna()\n",
    "_inputDataSUSNormalized1NoNaN = _inputDataSUSNormalized1.dropna()"
   ]
  },
  {
   "cell_type": "markdown",
   "metadata": {},
   "source": [
    "To use t test, first check mean and std on both datasets. Of they on't match, an other statistical test must be used. Other possible test: McNemar."
   ]
  },
  {
   "cell_type": "code",
   "execution_count": null,
   "metadata": {
    "scrolled": false
   },
   "outputs": [],
   "source": [
    "for q in shortLikertQuestions:\n",
    "    d1 = _inputDataSUSNormalized1.dropna().loc[:, q]\n",
    "    d2 = _inputDataSUSNormalized2.dropna().loc[:, q]\n",
    "    t2, p2 = stats.ttest_ind(d1,d2)\n",
    "    print(q)\n",
    "    print(\"    t = \" + str(t2))\n",
    "    print(\"    p = \" + str(p2))\n",
    "    print()\n",
    "    print()\n"
   ]
  },
  {
   "cell_type": "code",
   "execution_count": null,
   "metadata": {},
   "outputs": [],
   "source": [
    "_inputDataSUSNormalized1.dropna()"
   ]
  }
 ],
 "metadata": {
  "kernelspec": {
   "display_name": "Python 3",
   "language": "python",
   "name": "python3"
  },
  "language_info": {
   "codemirror_mode": {
    "name": "ipython",
    "version": 3
   },
   "file_extension": ".py",
   "mimetype": "text/x-python",
   "name": "python",
   "nbconvert_exporter": "python",
   "pygments_lexer": "ipython3",
   "version": "3.7.3"
  }
 },
 "nbformat": 4,
 "nbformat_minor": 2
}
